{
  "nbformat": 4,
  "nbformat_minor": 0,
  "metadata": {
    "colab": {
      "name": "GIT.ipynb",
      "provenance": [],
      "collapsed_sections": [],
      "authorship_tag": "ABX9TyNGLvxFt3MCYQlMr2o9iw0r",
      "include_colab_link": true
    },
    "kernelspec": {
      "name": "python3",
      "display_name": "Python 3"
    },
    "accelerator": "GPU",
    "widgets": {
      "application/vnd.jupyter.widget-state+json": {
        "8b9e350f31b649a38b2ac5d96102c3f0": {
          "model_module": "@jupyter-widgets/controls",
          "model_name": "HBoxModel",
          "state": {
            "_view_name": "HBoxView",
            "_dom_classes": [],
            "_model_name": "HBoxModel",
            "_view_module": "@jupyter-widgets/controls",
            "_model_module_version": "1.5.0",
            "_view_count": null,
            "_view_module_version": "1.5.0",
            "box_style": "",
            "layout": "IPY_MODEL_a2eed2c2fb1f4f289fb849e871a63dbc",
            "_model_module": "@jupyter-widgets/controls",
            "children": [
              "IPY_MODEL_8ff62d60f18242d59ec08ac5398daea7",
              "IPY_MODEL_e834d402ed1948eea929ee87d25ebd65"
            ]
          }
        },
        "a2eed2c2fb1f4f289fb849e871a63dbc": {
          "model_module": "@jupyter-widgets/base",
          "model_name": "LayoutModel",
          "state": {
            "_view_name": "LayoutView",
            "grid_template_rows": null,
            "right": null,
            "justify_content": null,
            "_view_module": "@jupyter-widgets/base",
            "overflow": null,
            "_model_module_version": "1.2.0",
            "_view_count": null,
            "flex_flow": null,
            "width": null,
            "min_width": null,
            "border": null,
            "align_items": null,
            "bottom": null,
            "_model_module": "@jupyter-widgets/base",
            "top": null,
            "grid_column": null,
            "overflow_y": null,
            "overflow_x": null,
            "grid_auto_flow": null,
            "grid_area": null,
            "grid_template_columns": null,
            "flex": null,
            "_model_name": "LayoutModel",
            "justify_items": null,
            "grid_row": null,
            "max_height": null,
            "align_content": null,
            "visibility": null,
            "align_self": null,
            "height": null,
            "min_height": null,
            "padding": null,
            "grid_auto_rows": null,
            "grid_gap": null,
            "max_width": null,
            "order": null,
            "_view_module_version": "1.2.0",
            "grid_template_areas": null,
            "object_position": null,
            "object_fit": null,
            "grid_auto_columns": null,
            "margin": null,
            "display": null,
            "left": null
          }
        },
        "8ff62d60f18242d59ec08ac5398daea7": {
          "model_module": "@jupyter-widgets/controls",
          "model_name": "FloatProgressModel",
          "state": {
            "_view_name": "ProgressView",
            "style": "IPY_MODEL_9ea223094f6f4f908bbd568f22da42d3",
            "_dom_classes": [],
            "description": "Downloading: 100%",
            "_model_name": "FloatProgressModel",
            "bar_style": "success",
            "max": 231508,
            "_view_module": "@jupyter-widgets/controls",
            "_model_module_version": "1.5.0",
            "value": 231508,
            "_view_count": null,
            "_view_module_version": "1.5.0",
            "orientation": "horizontal",
            "min": 0,
            "description_tooltip": null,
            "_model_module": "@jupyter-widgets/controls",
            "layout": "IPY_MODEL_1411ba123f464f25840317e393549faa"
          }
        },
        "e834d402ed1948eea929ee87d25ebd65": {
          "model_module": "@jupyter-widgets/controls",
          "model_name": "HTMLModel",
          "state": {
            "_view_name": "HTMLView",
            "style": "IPY_MODEL_e9230d74b3264673bb17627f379cd3ad",
            "_dom_classes": [],
            "description": "",
            "_model_name": "HTMLModel",
            "placeholder": "​",
            "_view_module": "@jupyter-widgets/controls",
            "_model_module_version": "1.5.0",
            "value": " 232k/232k [00:00&lt;00:00, 733kB/s]",
            "_view_count": null,
            "_view_module_version": "1.5.0",
            "description_tooltip": null,
            "_model_module": "@jupyter-widgets/controls",
            "layout": "IPY_MODEL_ca9ad41c8ad540609119ccc03845c956"
          }
        },
        "9ea223094f6f4f908bbd568f22da42d3": {
          "model_module": "@jupyter-widgets/controls",
          "model_name": "ProgressStyleModel",
          "state": {
            "_view_name": "StyleView",
            "_model_name": "ProgressStyleModel",
            "description_width": "initial",
            "_view_module": "@jupyter-widgets/base",
            "_model_module_version": "1.5.0",
            "_view_count": null,
            "_view_module_version": "1.2.0",
            "bar_color": null,
            "_model_module": "@jupyter-widgets/controls"
          }
        },
        "1411ba123f464f25840317e393549faa": {
          "model_module": "@jupyter-widgets/base",
          "model_name": "LayoutModel",
          "state": {
            "_view_name": "LayoutView",
            "grid_template_rows": null,
            "right": null,
            "justify_content": null,
            "_view_module": "@jupyter-widgets/base",
            "overflow": null,
            "_model_module_version": "1.2.0",
            "_view_count": null,
            "flex_flow": null,
            "width": null,
            "min_width": null,
            "border": null,
            "align_items": null,
            "bottom": null,
            "_model_module": "@jupyter-widgets/base",
            "top": null,
            "grid_column": null,
            "overflow_y": null,
            "overflow_x": null,
            "grid_auto_flow": null,
            "grid_area": null,
            "grid_template_columns": null,
            "flex": null,
            "_model_name": "LayoutModel",
            "justify_items": null,
            "grid_row": null,
            "max_height": null,
            "align_content": null,
            "visibility": null,
            "align_self": null,
            "height": null,
            "min_height": null,
            "padding": null,
            "grid_auto_rows": null,
            "grid_gap": null,
            "max_width": null,
            "order": null,
            "_view_module_version": "1.2.0",
            "grid_template_areas": null,
            "object_position": null,
            "object_fit": null,
            "grid_auto_columns": null,
            "margin": null,
            "display": null,
            "left": null
          }
        },
        "e9230d74b3264673bb17627f379cd3ad": {
          "model_module": "@jupyter-widgets/controls",
          "model_name": "DescriptionStyleModel",
          "state": {
            "_view_name": "StyleView",
            "_model_name": "DescriptionStyleModel",
            "description_width": "",
            "_view_module": "@jupyter-widgets/base",
            "_model_module_version": "1.5.0",
            "_view_count": null,
            "_view_module_version": "1.2.0",
            "_model_module": "@jupyter-widgets/controls"
          }
        },
        "ca9ad41c8ad540609119ccc03845c956": {
          "model_module": "@jupyter-widgets/base",
          "model_name": "LayoutModel",
          "state": {
            "_view_name": "LayoutView",
            "grid_template_rows": null,
            "right": null,
            "justify_content": null,
            "_view_module": "@jupyter-widgets/base",
            "overflow": null,
            "_model_module_version": "1.2.0",
            "_view_count": null,
            "flex_flow": null,
            "width": null,
            "min_width": null,
            "border": null,
            "align_items": null,
            "bottom": null,
            "_model_module": "@jupyter-widgets/base",
            "top": null,
            "grid_column": null,
            "overflow_y": null,
            "overflow_x": null,
            "grid_auto_flow": null,
            "grid_area": null,
            "grid_template_columns": null,
            "flex": null,
            "_model_name": "LayoutModel",
            "justify_items": null,
            "grid_row": null,
            "max_height": null,
            "align_content": null,
            "visibility": null,
            "align_self": null,
            "height": null,
            "min_height": null,
            "padding": null,
            "grid_auto_rows": null,
            "grid_gap": null,
            "max_width": null,
            "order": null,
            "_view_module_version": "1.2.0",
            "grid_template_areas": null,
            "object_position": null,
            "object_fit": null,
            "grid_auto_columns": null,
            "margin": null,
            "display": null,
            "left": null
          }
        }
      }
    }
  },
  "cells": [
    {
      "cell_type": "markdown",
      "metadata": {
        "id": "view-in-github",
        "colab_type": "text"
      },
      "source": [
        "<a href=\"https://colab.research.google.com/github/SwarajShinde/Text-Classfication-BOW------BERT/blob/main/GIT.ipynb\" target=\"_parent\"><img src=\"https://colab.research.google.com/assets/colab-badge.svg\" alt=\"Open In Colab\"/></a>"
      ]
    },
    {
      "cell_type": "code",
      "metadata": {
        "id": "_Gc4FSbIE3Ku"
      },
      "source": [
        "import pandas as pd\n",
        "import numpy as np\n",
        "import random\n",
        "import seaborn as sns\n",
        "import matplotlib.pyplot as plt\n",
        "%matplotlib inline"
      ],
      "execution_count": 87,
      "outputs": []
    },
    {
      "cell_type": "code",
      "metadata": {
        "id": "XNcoWQB_FOGH",
        "outputId": "1efe5ff9-5b08-40b5-c991-db717ca303e3",
        "colab": {
          "base_uri": "https://localhost:8080/",
          "height": 33
        }
      },
      "source": [
        "\n",
        "from google.colab import drive\n",
        "drive.mount('/content/drive')"
      ],
      "execution_count": 88,
      "outputs": [
        {
          "output_type": "stream",
          "text": [
            "Drive already mounted at /content/drive; to attempt to forcibly remount, call drive.mount(\"/content/drive\", force_remount=True).\n"
          ],
          "name": "stdout"
        }
      ]
    },
    {
      "cell_type": "code",
      "metadata": {
        "id": "TT2o8-jlFQFe"
      },
      "source": [
        "train = pd.read_json(\"/content/drive/My Drive/machine_hack/train_clean.json\")\n",
        "test = pd.read_json(\"/content/drive/My Drive/machine_hack/test_clean.json\")"
      ],
      "execution_count": 89,
      "outputs": []
    },
    {
      "cell_type": "code",
      "metadata": {
        "id": "t4-zsdLXFUlv"
      },
      "source": [
        "from sklearn.metrics import accuracy_score\n",
        "import torch\n",
        "from tqdm.notebook import tqdm"
      ],
      "execution_count": 90,
      "outputs": []
    },
    {
      "cell_type": "code",
      "metadata": {
        "id": "-eatFqfOFWf9"
      },
      "source": [
        "import torch.nn as nn\n",
        "import torch.optim as optim\n",
        "from torch.utils.data import DataLoader,Dataset"
      ],
      "execution_count": 91,
      "outputs": []
    },
    {
      "cell_type": "code",
      "metadata": {
        "id": "q3wtNNh0FXco",
        "outputId": "8d19ebe6-803d-462d-e46e-2cdc1323df28",
        "colab": {
          "base_uri": "https://localhost:8080/",
          "height": 368
        }
      },
      "source": [
        "!pip install transformers\n",
        "import transformers\n",
        "from transformers import AdamW\n"
      ],
      "execution_count": 92,
      "outputs": [
        {
          "output_type": "stream",
          "text": [
            "Requirement already satisfied: transformers in /usr/local/lib/python3.6/dist-packages (3.4.0)\n",
            "Requirement already satisfied: sacremoses in /usr/local/lib/python3.6/dist-packages (from transformers) (0.0.43)\n",
            "Requirement already satisfied: sentencepiece!=0.1.92 in /usr/local/lib/python3.6/dist-packages (from transformers) (0.1.94)\n",
            "Requirement already satisfied: regex!=2019.12.17 in /usr/local/lib/python3.6/dist-packages (from transformers) (2019.12.20)\n",
            "Requirement already satisfied: packaging in /usr/local/lib/python3.6/dist-packages (from transformers) (20.4)\n",
            "Requirement already satisfied: dataclasses; python_version < \"3.7\" in /usr/local/lib/python3.6/dist-packages (from transformers) (0.7)\n",
            "Requirement already satisfied: tokenizers==0.9.2 in /usr/local/lib/python3.6/dist-packages (from transformers) (0.9.2)\n",
            "Requirement already satisfied: requests in /usr/local/lib/python3.6/dist-packages (from transformers) (2.23.0)\n",
            "Requirement already satisfied: numpy in /usr/local/lib/python3.6/dist-packages (from transformers) (1.18.5)\n",
            "Requirement already satisfied: tqdm>=4.27 in /usr/local/lib/python3.6/dist-packages (from transformers) (4.41.1)\n",
            "Requirement already satisfied: protobuf in /usr/local/lib/python3.6/dist-packages (from transformers) (3.12.4)\n",
            "Requirement already satisfied: filelock in /usr/local/lib/python3.6/dist-packages (from transformers) (3.0.12)\n",
            "Requirement already satisfied: six in /usr/local/lib/python3.6/dist-packages (from sacremoses->transformers) (1.15.0)\n",
            "Requirement already satisfied: click in /usr/local/lib/python3.6/dist-packages (from sacremoses->transformers) (7.1.2)\n",
            "Requirement already satisfied: joblib in /usr/local/lib/python3.6/dist-packages (from sacremoses->transformers) (0.17.0)\n",
            "Requirement already satisfied: pyparsing>=2.0.2 in /usr/local/lib/python3.6/dist-packages (from packaging->transformers) (2.4.7)\n",
            "Requirement already satisfied: certifi>=2017.4.17 in /usr/local/lib/python3.6/dist-packages (from requests->transformers) (2020.6.20)\n",
            "Requirement already satisfied: urllib3!=1.25.0,!=1.25.1,<1.26,>=1.21.1 in /usr/local/lib/python3.6/dist-packages (from requests->transformers) (1.24.3)\n",
            "Requirement already satisfied: chardet<4,>=3.0.2 in /usr/local/lib/python3.6/dist-packages (from requests->transformers) (3.0.4)\n",
            "Requirement already satisfied: idna<3,>=2.5 in /usr/local/lib/python3.6/dist-packages (from requests->transformers) (2.10)\n",
            "Requirement already satisfied: setuptools in /usr/local/lib/python3.6/dist-packages (from protobuf->transformers) (50.3.0)\n"
          ],
          "name": "stdout"
        }
      ]
    },
    {
      "cell_type": "markdown",
      "metadata": {
        "id": "sLIL8VIqyTSE"
      },
      "source": [
        "# EDA"
      ]
    },
    {
      "cell_type": "code",
      "metadata": {
        "id": "McP0vlE1pp_w"
      },
      "source": [
        "# finding out the max len\n",
        "temp_train = train[:1000]"
      ],
      "execution_count": 93,
      "outputs": []
    },
    {
      "cell_type": "code",
      "metadata": {
        "id": "WKOWymxCr6rj",
        "outputId": "9295f274-d86f-4424-8bb2-cd71eceefff7",
        "colab": {
          "base_uri": "https://localhost:8080/",
          "height": 166
        }
      },
      "source": [
        "temp_train.head(4)"
      ],
      "execution_count": 94,
      "outputs": [
        {
          "output_type": "execute_result",
          "data": {
            "text/html": [
              "<div>\n",
              "<style scoped>\n",
              "    .dataframe tbody tr th:only-of-type {\n",
              "        vertical-align: middle;\n",
              "    }\n",
              "\n",
              "    .dataframe tbody tr th {\n",
              "        vertical-align: top;\n",
              "    }\n",
              "\n",
              "    .dataframe thead th {\n",
              "        text-align: right;\n",
              "    }\n",
              "</style>\n",
              "<table border=\"1\" class=\"dataframe\">\n",
              "  <thead>\n",
              "    <tr style=\"text-align: right;\">\n",
              "      <th></th>\n",
              "      <th>label</th>\n",
              "      <th>title</th>\n",
              "      <th>body</th>\n",
              "    </tr>\n",
              "  </thead>\n",
              "  <tbody>\n",
              "    <tr>\n",
              "      <th>0</th>\n",
              "      <td>1</td>\n",
              "      <td>y-zoom piano roll</td>\n",
              "      <td>y-zoom piano roll would useful.</td>\n",
              "    </tr>\n",
              "    <tr>\n",
              "      <th>1</th>\n",
              "      <td>0</td>\n",
              "      <td>buggy behavior selection</td>\n",
              "      <td>! screenshot 2016-02-23 21 27 40 https://cloud...</td>\n",
              "    </tr>\n",
              "    <tr>\n",
              "      <th>2</th>\n",
              "      <td>1</td>\n",
              "      <td>auto update feature</td>\n",
              "      <td>hi,\\r \\r great job far, @saenzramiro ! : \\r \\r...</td>\n",
              "    </tr>\n",
              "    <tr>\n",
              "      <th>3</th>\n",
              "      <td>1</td>\n",
              "      <td>filter noisy endpoints logs</td>\n",
              "      <td>think stop logging requests to:\\r - __health \\...</td>\n",
              "    </tr>\n",
              "  </tbody>\n",
              "</table>\n",
              "</div>"
            ],
            "text/plain": [
              "   label  ...                                               body\n",
              "0      1  ...                    y-zoom piano roll would useful.\n",
              "1      0  ...  ! screenshot 2016-02-23 21 27 40 https://cloud...\n",
              "2      1  ...  hi,\\r \\r great job far, @saenzramiro ! : \\r \\r...\n",
              "3      1  ...  think stop logging requests to:\\r - __health \\...\n",
              "\n",
              "[4 rows x 3 columns]"
            ]
          },
          "metadata": {
            "tags": []
          },
          "execution_count": 94
        }
      ]
    },
    {
      "cell_type": "code",
      "metadata": {
        "id": "6FeYA-Ygsg9W"
      },
      "source": [
        "se = 'I love india '\n"
      ],
      "execution_count": 153,
      "outputs": []
    },
    {
      "cell_type": "code",
      "metadata": {
        "id": "ipKYnjPTsjd-",
        "outputId": "f0034bd0-2979-45dd-f017-0a239fe15e56",
        "colab": {
          "base_uri": "https://localhost:8080/",
          "height": 50
        }
      },
      "source": [
        "tep =  [se.split(\" \")]\n",
        "import nltk\n",
        "nltk.download('punkt')\n",
        "toki = nltk.word_tokenize(se)"
      ],
      "execution_count": 154,
      "outputs": [
        {
          "output_type": "stream",
          "text": [
            "[nltk_data] Downloading package punkt to /root/nltk_data...\n",
            "[nltk_data]   Package punkt is already up-to-date!\n"
          ],
          "name": "stdout"
        }
      ]
    },
    {
      "cell_type": "code",
      "metadata": {
        "id": "ylbPJLRMs7yj",
        "outputId": "0398c41f-b126-4963-de60-d47b8a38f5d8",
        "colab": {
          "base_uri": "https://localhost:8080/",
          "height": 33
        }
      },
      "source": [
        "len(toki)"
      ],
      "execution_count": 97,
      "outputs": [
        {
          "output_type": "execute_result",
          "data": {
            "text/plain": [
              "3"
            ]
          },
          "metadata": {
            "tags": []
          },
          "execution_count": 97
        }
      ]
    },
    {
      "cell_type": "code",
      "metadata": {
        "id": "oDN_ZGjasEN3",
        "outputId": "fff01103-4a5b-4b4f-fa28-5a6f134f4368",
        "colab": {
          "base_uri": "https://localhost:8080/",
          "height": 117
        }
      },
      "source": [
        "def toke(sent):\n",
        "    opo = nltk.word_tokenize(sent)\n",
        "    return len(opo)\n",
        "temp_train['num_tok_title'] = temp_train['title'].apply(lambda x:toke(x) )"
      ],
      "execution_count": 98,
      "outputs": [
        {
          "output_type": "stream",
          "text": [
            "/usr/local/lib/python3.6/dist-packages/ipykernel_launcher.py:4: SettingWithCopyWarning: \n",
            "A value is trying to be set on a copy of a slice from a DataFrame.\n",
            "Try using .loc[row_indexer,col_indexer] = value instead\n",
            "\n",
            "See the caveats in the documentation: https://pandas.pydata.org/pandas-docs/stable/user_guide/indexing.html#returning-a-view-versus-a-copy\n",
            "  after removing the cwd from sys.path.\n"
          ],
          "name": "stderr"
        }
      ]
    },
    {
      "cell_type": "code",
      "metadata": {
        "id": "NIr6BsZ-tjgH",
        "outputId": "709f2bac-ad2a-47c2-e5ef-afb457786e5e",
        "colab": {
          "base_uri": "https://localhost:8080/",
          "height": 117
        }
      },
      "source": [
        "temp_train['num_tok_Body'] = temp_train['body'].apply(lambda x:toke(x) )"
      ],
      "execution_count": 99,
      "outputs": [
        {
          "output_type": "stream",
          "text": [
            "/usr/local/lib/python3.6/dist-packages/ipykernel_launcher.py:1: SettingWithCopyWarning: \n",
            "A value is trying to be set on a copy of a slice from a DataFrame.\n",
            "Try using .loc[row_indexer,col_indexer] = value instead\n",
            "\n",
            "See the caveats in the documentation: https://pandas.pydata.org/pandas-docs/stable/user_guide/indexing.html#returning-a-view-versus-a-copy\n",
            "  \"\"\"Entry point for launching an IPython kernel.\n"
          ],
          "name": "stderr"
        }
      ]
    },
    {
      "cell_type": "code",
      "metadata": {
        "id": "RdCp0fPvtqV9",
        "outputId": "b7dbc698-35d9-477a-ceb6-57f7aee727d7",
        "colab": {
          "base_uri": "https://localhost:8080/",
          "height": 196
        }
      },
      "source": [
        "temp_train.head(5)"
      ],
      "execution_count": 100,
      "outputs": [
        {
          "output_type": "execute_result",
          "data": {
            "text/html": [
              "<div>\n",
              "<style scoped>\n",
              "    .dataframe tbody tr th:only-of-type {\n",
              "        vertical-align: middle;\n",
              "    }\n",
              "\n",
              "    .dataframe tbody tr th {\n",
              "        vertical-align: top;\n",
              "    }\n",
              "\n",
              "    .dataframe thead th {\n",
              "        text-align: right;\n",
              "    }\n",
              "</style>\n",
              "<table border=\"1\" class=\"dataframe\">\n",
              "  <thead>\n",
              "    <tr style=\"text-align: right;\">\n",
              "      <th></th>\n",
              "      <th>label</th>\n",
              "      <th>title</th>\n",
              "      <th>body</th>\n",
              "      <th>num_tok_title</th>\n",
              "      <th>num_tok_Body</th>\n",
              "    </tr>\n",
              "  </thead>\n",
              "  <tbody>\n",
              "    <tr>\n",
              "      <th>0</th>\n",
              "      <td>1</td>\n",
              "      <td>y-zoom piano roll</td>\n",
              "      <td>y-zoom piano roll would useful.</td>\n",
              "      <td>3</td>\n",
              "      <td>6</td>\n",
              "    </tr>\n",
              "    <tr>\n",
              "      <th>1</th>\n",
              "      <td>0</td>\n",
              "      <td>buggy behavior selection</td>\n",
              "      <td>! screenshot 2016-02-23 21 27 40 https://cloud...</td>\n",
              "      <td>3</td>\n",
              "      <td>10</td>\n",
              "    </tr>\n",
              "    <tr>\n",
              "      <th>2</th>\n",
              "      <td>1</td>\n",
              "      <td>auto update feature</td>\n",
              "      <td>hi,\\r \\r great job far, @saenzramiro ! : \\r \\r...</td>\n",
              "      <td>3</td>\n",
              "      <td>28</td>\n",
              "    </tr>\n",
              "    <tr>\n",
              "      <th>3</th>\n",
              "      <td>1</td>\n",
              "      <td>filter noisy endpoints logs</td>\n",
              "      <td>think stop logging requests to:\\r - __health \\...</td>\n",
              "      <td>4</td>\n",
              "      <td>16</td>\n",
              "    </tr>\n",
              "    <tr>\n",
              "      <th>4</th>\n",
              "      <td>0</td>\n",
              "      <td>enable pid / pid alarm actions arduino/tc4</td>\n",
              "      <td>expected behavior\\r alarm actions pid pid enab...</td>\n",
              "      <td>7</td>\n",
              "      <td>245</td>\n",
              "    </tr>\n",
              "  </tbody>\n",
              "</table>\n",
              "</div>"
            ],
            "text/plain": [
              "   label  ... num_tok_Body\n",
              "0      1  ...            6\n",
              "1      0  ...           10\n",
              "2      1  ...           28\n",
              "3      1  ...           16\n",
              "4      0  ...          245\n",
              "\n",
              "[5 rows x 5 columns]"
            ]
          },
          "metadata": {
            "tags": []
          },
          "execution_count": 100
        }
      ]
    },
    {
      "cell_type": "code",
      "metadata": {
        "id": "7XEJO1MJt4da",
        "outputId": "d4b622d6-3797-4989-9cb6-8bf66c4386b9",
        "colab": {
          "base_uri": "https://localhost:8080/",
          "height": 50
        }
      },
      "source": [
        "import nltk\n",
        "nltk.download('stopwords')\n",
        "from nltk.corpus import stopwords\n",
        "stop = set(stopwords.words('english'))\n"
      ],
      "execution_count": 156,
      "outputs": [
        {
          "output_type": "stream",
          "text": [
            "[nltk_data] Downloading package stopwords to /root/nltk_data...\n",
            "[nltk_data]   Package stopwords is already up-to-date!\n"
          ],
          "name": "stdout"
        }
      ]
    },
    {
      "cell_type": "code",
      "metadata": {
        "id": "J8_0JZZXvEow"
      },
      "source": [
        "def remove_stop(sent):\n",
        "    fins = [i for i in nltk.word_tokenize(sent) if i not in stop]\n",
        "    return \" \".join(fins)"
      ],
      "execution_count": 102,
      "outputs": []
    },
    {
      "cell_type": "code",
      "metadata": {
        "id": "uTHYTRRKu3GX",
        "outputId": "dd8aafef-3127-4518-9493-e1ea8304efce",
        "colab": {
          "base_uri": "https://localhost:8080/",
          "height": 117
        }
      },
      "source": [
        "temp_train['stop_title'] = temp_train['title'].apply(lambda x:remove_stop(x))"
      ],
      "execution_count": 105,
      "outputs": [
        {
          "output_type": "stream",
          "text": [
            "/usr/local/lib/python3.6/dist-packages/ipykernel_launcher.py:1: SettingWithCopyWarning: \n",
            "A value is trying to be set on a copy of a slice from a DataFrame.\n",
            "Try using .loc[row_indexer,col_indexer] = value instead\n",
            "\n",
            "See the caveats in the documentation: https://pandas.pydata.org/pandas-docs/stable/user_guide/indexing.html#returning-a-view-versus-a-copy\n",
            "  \"\"\"Entry point for launching an IPython kernel.\n"
          ],
          "name": "stderr"
        }
      ]
    },
    {
      "cell_type": "code",
      "metadata": {
        "id": "dgrnjFrAv89I",
        "outputId": "a79e2b9e-b416-4112-9f50-96bd311dff7e",
        "colab": {
          "base_uri": "https://localhost:8080/",
          "height": 117
        }
      },
      "source": [
        "\n",
        "temp_train['stop_body'] = temp_train['body'].apply(lambda x:remove_stop(x))"
      ],
      "execution_count": 106,
      "outputs": [
        {
          "output_type": "stream",
          "text": [
            "/usr/local/lib/python3.6/dist-packages/ipykernel_launcher.py:2: SettingWithCopyWarning: \n",
            "A value is trying to be set on a copy of a slice from a DataFrame.\n",
            "Try using .loc[row_indexer,col_indexer] = value instead\n",
            "\n",
            "See the caveats in the documentation: https://pandas.pydata.org/pandas-docs/stable/user_guide/indexing.html#returning-a-view-versus-a-copy\n",
            "  \n"
          ],
          "name": "stderr"
        }
      ]
    },
    {
      "cell_type": "code",
      "metadata": {
        "id": "fG5o_7TgwKrH",
        "outputId": "1c38bbeb-adc6-4311-d29f-2403498fdddf",
        "colab": {
          "base_uri": "https://localhost:8080/",
          "height": 217
        }
      },
      "source": [
        "temp_train['num_stop_Body'] = temp_train['body'].apply(lambda x:toke(x) )\n",
        "temp_train['num_stop_title'] = temp_train['title'].apply(lambda x:toke(x) )"
      ],
      "execution_count": 107,
      "outputs": [
        {
          "output_type": "stream",
          "text": [
            "/usr/local/lib/python3.6/dist-packages/ipykernel_launcher.py:1: SettingWithCopyWarning: \n",
            "A value is trying to be set on a copy of a slice from a DataFrame.\n",
            "Try using .loc[row_indexer,col_indexer] = value instead\n",
            "\n",
            "See the caveats in the documentation: https://pandas.pydata.org/pandas-docs/stable/user_guide/indexing.html#returning-a-view-versus-a-copy\n",
            "  \"\"\"Entry point for launching an IPython kernel.\n",
            "/usr/local/lib/python3.6/dist-packages/ipykernel_launcher.py:2: SettingWithCopyWarning: \n",
            "A value is trying to be set on a copy of a slice from a DataFrame.\n",
            "Try using .loc[row_indexer,col_indexer] = value instead\n",
            "\n",
            "See the caveats in the documentation: https://pandas.pydata.org/pandas-docs/stable/user_guide/indexing.html#returning-a-view-versus-a-copy\n",
            "  \n"
          ],
          "name": "stderr"
        }
      ]
    },
    {
      "cell_type": "code",
      "metadata": {
        "id": "pPeHhtkCweIM",
        "outputId": "62c29df8-61d5-4a98-d66c-623a1886c0ab",
        "colab": {
          "base_uri": "https://localhost:8080/",
          "height": 622
        }
      },
      "source": [
        "fig,axes = plt.subplots(figsize=(10,10),nrows=2,ncols=2)\n",
        "sns.histplot(temp_train['num_tok_title'],ax=axes[0][0])\n",
        "sns.histplot(temp_train['num_tok_Body'],ax=axes[0][1])\n",
        "sns.histplot(temp_train['num_stop_title'],ax=axes[1][0])\n",
        "sns.histplot(temp_train['num_stop_Body'],ax=axes[1][1])"
      ],
      "execution_count": 108,
      "outputs": [
        {
          "output_type": "execute_result",
          "data": {
            "text/plain": [
              "<matplotlib.axes._subplots.AxesSubplot at 0x7f81370c6c50>"
            ]
          },
          "metadata": {
            "tags": []
          },
          "execution_count": 108
        },
        {
          "output_type": "display_data",
          "data": {
            "image/png": "[encoded data removed]",
            "text/plain": [
              "<Figure size 720x720 with 4 Axes>"
            ]
          },
          "metadata": {
            "tags": [],
            "needs_background": "light"
          }
        }
      ]
    },
    {
      "cell_type": "code",
      "metadata": {
        "id": "7oZpgo_VzQmz"
      },
      "source": [
        "dict_ = {0:'Bug',1:'Feature',2:'Question'}"
      ],
      "execution_count": 109,
      "outputs": []
    },
    {
      "cell_type": "code",
      "metadata": {
        "id": "kWw4wowtyLLH"
      },
      "source": [
        "def show(df,randomization,num_entry,lbl,col,lbl_val):\n",
        "    size = df.shape\n",
        "    nums = size[0]   \n",
        "    for i in range(num_entry):\n",
        "        if randomization : \n",
        "            num_ = random.randint(0,nums-1) \n",
        "        else: num_ = i\n",
        "        print(df[col][num_])\n",
        "        print(f\"Label : {lbl_val[df[lbl][num_]]}\")\n"
      ],
      "execution_count": 110,
      "outputs": []
    },
    {
      "cell_type": "code",
      "metadata": {
        "id": "C-uA9JHw0KaB",
        "outputId": "150dfd6a-1135-423f-8e7e-49159853996b",
        "colab": {
          "base_uri": "https://localhost:8080/",
          "height": 170
        }
      },
      "source": [
        "show(temp_train,randomization=True,num_entry=4,lbl='label',col='stop_body',lbl_val=dict_)"
      ],
      "execution_count": 123,
      "outputs": [
        {
          "output_type": "stream",
          "text": [
            "starting point : v2.html\\r link : https : //naturalintelligence.github.io/imglab/v2.html\\r \\r top right side 3 buttons : plugins , keyboard , donate . browser window < 1412px . properly aligned . \\r \\r elements menu aligned different screen size .\n",
            "Label : Bug\n",
            "seems unit tests trying pull wrong module somehow ? seem thing pulls directly qunit . \\r \\r import { module , test } 'qunit ' ; \\r \\r generated running ember g util foo \\r \\r perhaps need fix blueprint pull module differently ? unsure.\\r \\r error : \\r \\r stack : > \\r http : //localhost:7357/assets/test-support.js:7092\\r message : > \\r error : \\r error : global module removed qunit 2.0.\\r details upgrade guide https : //qunitjs.com/upgrade-guide-2.x/\\r\n",
            "Label : Bug\n",
            "stick gh pages , 'll need work around data collection . one possible solution https : //coderwall.com/p/8lq1ba\n",
            "Label : Feature\n",
            "invalid_function autocompletion , 's example : \\r ! valivnzlqu https : //user-images.githubusercontent.com/31375974/48679831-d88c3a80-eba5-11e8-9bbb-192ee9b3f2e4.gif \\r \\r\n",
            "Label : Feature\n"
          ],
          "name": "stdout"
        }
      ]
    },
    {
      "cell_type": "code",
      "metadata": {
        "id": "TeJ-F-ReNSjT",
        "outputId": "1f0d09a1-a8ff-4306-e380-2998344f28ee",
        "colab": {
          "base_uri": "https://localhost:8080/",
          "height": 184
        }
      },
      "source": [
        "# most frequent words:\n",
        "from collections import Counter\n",
        "cnt = Counter()\n",
        "for txt in temp_train['body'].values:\n",
        "    for word in txt.split():\n",
        "        cnt[word] += 1\n",
        "cnt.most_common(10)"
      ],
      "execution_count": 161,
      "outputs": [
        {
          "output_type": "execute_result",
          "data": {
            "text/plain": [
              "[('r', 4675),\n",
              " ('file', 227),\n",
              " ('error', 210),\n",
              " ('1', 196),\n",
              " ('version', 185),\n",
              " ('would', 181),\n",
              " ('use', 163),\n",
              " ('new', 150),\n",
              " ('like', 142),\n",
              " ('add', 140)]"
            ]
          },
          "metadata": {
            "tags": []
          },
          "execution_count": 161
        }
      ]
    },
    {
      "cell_type": "code",
      "metadata": {
        "id": "tb3c-kcNUmXB",
        "outputId": "9f24eb30-36b5-4247-e91a-ad938ec5a9d5",
        "colab": {
          "base_uri": "https://localhost:8080/",
          "height": 50
        }
      },
      "source": [
        "# least freq words\n",
        "# single words chars\n",
        "# digits \n",
        "count = 0\n",
        "uniq_words = set()\n",
        "for i in cnt:\n",
        "    if cnt[i]==1:\n",
        "        count+=1\n",
        "        uniq_words.add(i)\n",
        "print(len(uniq_words))\n",
        "print(count)"
      ],
      "execution_count": 176,
      "outputs": [
        {
          "output_type": "stream",
          "text": [
            "7612\n",
            "7612\n"
          ],
          "name": "stdout"
        }
      ]
    },
    {
      "cell_type": "code",
      "metadata": {
        "id": "GjftjxrlUtdn"
      },
      "source": [
        "def aggresive(x):\n",
        "    fins = [i for i in nltk.word_tokenize(x) if i not in uniq_words]\n",
        "    return \" \".join(fins)\n",
        "\n"
      ],
      "execution_count": 177,
      "outputs": []
    },
    {
      "cell_type": "code",
      "metadata": {
        "id": "z9UmWGBBV8lS"
      },
      "source": [
        "temp_train['least_Freq'] = temp_train['body'].apply(lambda x: aggresive(x))"
      ],
      "execution_count": null,
      "outputs": []
    },
    {
      "cell_type": "code",
      "metadata": {
        "id": "HdFNAJ0pWJWs",
        "outputId": "fabdd22d-f5e4-4650-bc6c-402c97e0c325",
        "colab": {
          "base_uri": "https://localhost:8080/",
          "height": 117
        }
      },
      "source": [
        "temp_train['agg_num_tok_body'] = temp_train['least_Freq'].apply(lambda x:toke(x) )"
      ],
      "execution_count": 188,
      "outputs": [
        {
          "output_type": "stream",
          "text": [
            "/usr/local/lib/python3.6/dist-packages/ipykernel_launcher.py:1: SettingWithCopyWarning: \n",
            "A value is trying to be set on a copy of a slice from a DataFrame.\n",
            "Try using .loc[row_indexer,col_indexer] = value instead\n",
            "\n",
            "See the caveats in the documentation: https://pandas.pydata.org/pandas-docs/stable/user_guide/indexing.html#returning-a-view-versus-a-copy\n",
            "  \"\"\"Entry point for launching an IPython kernel.\n"
          ],
          "name": "stderr"
        }
      ]
    },
    {
      "cell_type": "code",
      "metadata": {
        "id": "UMlFSjsTWUeO",
        "outputId": "39d0104a-4d3e-4b4b-e120-2f1225095099",
        "colab": {
          "base_uri": "https://localhost:8080/",
          "height": 350
        }
      },
      "source": [
        "sns.distplot(temp_train['agg_num_tok_body'])"
      ],
      "execution_count": 189,
      "outputs": [
        {
          "output_type": "stream",
          "text": [
            "/usr/local/lib/python3.6/dist-packages/seaborn/distributions.py:2551: FutureWarning: `distplot` is a deprecated function and will be removed in a future version. Please adapt your code to use either `displot` (a figure-level function with similar flexibility) or `histplot` (an axes-level function for histograms).\n",
            "  warnings.warn(msg, FutureWarning)\n"
          ],
          "name": "stderr"
        },
        {
          "output_type": "execute_result",
          "data": {
            "text/plain": [
              "<matplotlib.axes._subplots.AxesSubplot at 0x7f7f151a3828>"
            ]
          },
          "metadata": {
            "tags": []
          },
          "execution_count": 189
        },
        {
          "output_type": "display_data",
          "data": {
            "image/png": "[encoded data removed]",
            "text/plain": [
              "<Figure size 432x288 with 1 Axes>"
            ]
          },
          "metadata": {
            "tags": [],
            "needs_background": "light"
          }
        }
      ]
    },
    {
      "cell_type": "code",
      "metadata": {
        "id": "o7C5RGTdWmcI"
      },
      "source": [
        "fin_tits = Counter()\n",
        "for i in temp_train['title']:\n",
        "    for j in i.split():\n",
        "        fin_tits[j]+=1\n",
        "fin_tit = set()\n",
        "for m in fin_tits:\n",
        "    if fin_tits[m] == 1:\n",
        "        fin_tit.add(m)\n",
        "\n"
      ],
      "execution_count": 183,
      "outputs": []
    },
    {
      "cell_type": "code",
      "metadata": {
        "id": "tqc1qVqPXNtZ"
      },
      "source": [
        "def aggresive_title(x):\n",
        "    fins = [i for i in nltk.word_tokenize(x) if i in fin_tit] \n",
        "    return \" \".join(fins)"
      ],
      "execution_count": 186,
      "outputs": []
    },
    {
      "cell_type": "code",
      "metadata": {
        "id": "q-w9WlNSWar3",
        "outputId": "9808f1d1-e3dd-46ac-b2f3-53d9adf18289",
        "colab": {
          "base_uri": "https://localhost:8080/",
          "height": 117
        }
      },
      "source": [
        "# lets do the same for title\n",
        "# not a good idea for title \n",
        "temp_train['agg_title'] = temp_train['title'].apply(lambda x: aggresive_title(x))\n",
        "\n"
      ],
      "execution_count": 192,
      "outputs": [
        {
          "output_type": "stream",
          "text": [
            "/usr/local/lib/python3.6/dist-packages/ipykernel_launcher.py:3: SettingWithCopyWarning: \n",
            "A value is trying to be set on a copy of a slice from a DataFrame.\n",
            "Try using .loc[row_indexer,col_indexer] = value instead\n",
            "\n",
            "See the caveats in the documentation: https://pandas.pydata.org/pandas-docs/stable/user_guide/indexing.html#returning-a-view-versus-a-copy\n",
            "  This is separate from the ipykernel package so we can avoid doing imports until\n"
          ],
          "name": "stderr"
        }
      ]
    },
    {
      "cell_type": "code",
      "metadata": {
        "id": "U1PxKXr7XWDw",
        "outputId": "a313abb8-5b62-48c6-f7f9-77f05d9b76fc",
        "colab": {
          "base_uri": "https://localhost:8080/",
          "height": 450
        }
      },
      "source": [
        "temp_train['agg_num_tok_title'] = temp_train['agg_title'].apply(lambda x: toke(x))\n",
        "sns.distplot(temp_train['agg_num_tok_title'])"
      ],
      "execution_count": 190,
      "outputs": [
        {
          "output_type": "stream",
          "text": [
            "/usr/local/lib/python3.6/dist-packages/ipykernel_launcher.py:1: SettingWithCopyWarning: \n",
            "A value is trying to be set on a copy of a slice from a DataFrame.\n",
            "Try using .loc[row_indexer,col_indexer] = value instead\n",
            "\n",
            "See the caveats in the documentation: https://pandas.pydata.org/pandas-docs/stable/user_guide/indexing.html#returning-a-view-versus-a-copy\n",
            "  \"\"\"Entry point for launching an IPython kernel.\n",
            "/usr/local/lib/python3.6/dist-packages/seaborn/distributions.py:2551: FutureWarning: `distplot` is a deprecated function and will be removed in a future version. Please adapt your code to use either `displot` (a figure-level function with similar flexibility) or `histplot` (an axes-level function for histograms).\n",
            "  warnings.warn(msg, FutureWarning)\n"
          ],
          "name": "stderr"
        },
        {
          "output_type": "execute_result",
          "data": {
            "text/plain": [
              "<matplotlib.axes._subplots.AxesSubplot at 0x7f7f15293128>"
            ]
          },
          "metadata": {
            "tags": []
          },
          "execution_count": 190
        },
        {
          "output_type": "display_data",
          "data": {
            "image/png": "[encoded data removed]",
            "text/plain": [
              "<Figure size 432x288 with 1 Axes>"
            ]
          },
          "metadata": {
            "tags": [],
            "needs_background": "light"
          }
        }
      ]
    },
    {
      "cell_type": "code",
      "metadata": {
        "id": "0Lldqp-0Xu9G",
        "outputId": "ac91cdd2-e6b1-4445-e6cc-2ae205e83c66",
        "colab": {
          "base_uri": "https://localhost:8080/",
          "height": 1000
        }
      },
      "source": [
        "temp_train"
      ],
      "execution_count": 191,
      "outputs": [
        {
          "output_type": "execute_result",
          "data": {
            "text/html": [
              "<div>\n",
              "<style scoped>\n",
              "    .dataframe tbody tr th:only-of-type {\n",
              "        vertical-align: middle;\n",
              "    }\n",
              "\n",
              "    .dataframe tbody tr th {\n",
              "        vertical-align: top;\n",
              "    }\n",
              "\n",
              "    .dataframe thead th {\n",
              "        text-align: right;\n",
              "    }\n",
              "</style>\n",
              "<table border=\"1\" class=\"dataframe\">\n",
              "  <thead>\n",
              "    <tr style=\"text-align: right;\">\n",
              "      <th></th>\n",
              "      <th>label</th>\n",
              "      <th>title</th>\n",
              "      <th>body</th>\n",
              "      <th>num_tok_title</th>\n",
              "      <th>num_tok_Body</th>\n",
              "      <th>stop_title</th>\n",
              "      <th>stop_body</th>\n",
              "      <th>num_stop_Body</th>\n",
              "      <th>num_stop_title</th>\n",
              "      <th>num_tok_body</th>\n",
              "      <th>least_Freq</th>\n",
              "      <th>agg_num_tok_body</th>\n",
              "      <th>agg_title</th>\n",
              "      <th>agg_num_tok_title</th>\n",
              "    </tr>\n",
              "  </thead>\n",
              "  <tbody>\n",
              "    <tr>\n",
              "      <th>0</th>\n",
              "      <td>1</td>\n",
              "      <td>yzoom piano roll</td>\n",
              "      <td>yzoom piano roll would useful</td>\n",
              "      <td>3</td>\n",
              "      <td>6</td>\n",
              "      <td>y-zoom piano roll</td>\n",
              "      <td>y-zoom piano roll would useful .</td>\n",
              "      <td>6</td>\n",
              "      <td>3</td>\n",
              "      <td>5</td>\n",
              "      <td>roll would useful</td>\n",
              "      <td>3</td>\n",
              "      <td>yzoom piano roll</td>\n",
              "      <td>3</td>\n",
              "    </tr>\n",
              "    <tr>\n",
              "      <th>1</th>\n",
              "      <td>0</td>\n",
              "      <td>buggy behavior selection</td>\n",
              "      <td>screenshot 20160223 21 27 40 httpscloudgithub...</td>\n",
              "      <td>3</td>\n",
              "      <td>10</td>\n",
              "      <td>buggy behavior selection</td>\n",
              "      <td>! screenshot 2016-02-23 21 27 40 https : //clo...</td>\n",
              "      <td>10</td>\n",
              "      <td>3</td>\n",
              "      <td>7</td>\n",
              "      <td>screenshot 21 27 40 r</td>\n",
              "      <td>5</td>\n",
              "      <td>buggy behavior</td>\n",
              "      <td>2</td>\n",
              "    </tr>\n",
              "    <tr>\n",
              "      <th>2</th>\n",
              "      <td>1</td>\n",
              "      <td>auto update feature</td>\n",
              "      <td>hir r great job far saenzramiro   r r auto upd...</td>\n",
              "      <td>3</td>\n",
              "      <td>28</td>\n",
              "      <td>auto update feature</td>\n",
              "      <td>hi , \\r \\r great job far , @ saenzramiro ! : \\...</td>\n",
              "      <td>28</td>\n",
              "      <td>3</td>\n",
              "      <td>21</td>\n",
              "      <td>hir r great job far r r auto update feature wo...</td>\n",
              "      <td>20</td>\n",
              "      <td></td>\n",
              "      <td>0</td>\n",
              "    </tr>\n",
              "    <tr>\n",
              "      <th>3</th>\n",
              "      <td>1</td>\n",
              "      <td>filter noisy endpoints logs</td>\n",
              "      <td>think stop logging requests tor  health r  gtg...</td>\n",
              "      <td>4</td>\n",
              "      <td>16</td>\n",
              "      <td>filter noisy endpoints logs</td>\n",
              "      <td>think stop logging requests : \\r - __health \\r...</td>\n",
              "      <td>16</td>\n",
              "      <td>4</td>\n",
              "      <td>11</td>\n",
              "      <td>think stop logging requests tor health r r r</td>\n",
              "      <td>9</td>\n",
              "      <td>noisy endpoints</td>\n",
              "      <td>2</td>\n",
              "    </tr>\n",
              "    <tr>\n",
              "      <th>4</th>\n",
              "      <td>0</td>\n",
              "      <td>enable pid  pid alarm actions arduinotc4</td>\n",
              "      <td>expected behaviorr alarm actions pid pid enabl...</td>\n",
              "      <td>6</td>\n",
              "      <td>245</td>\n",
              "      <td>enable pid / pid alarm actions arduino/tc4</td>\n",
              "      <td>expected behavior\\r alarm actions pid pid enab...</td>\n",
              "      <td>245</td>\n",
              "      <td>7</td>\n",
              "      <td>198</td>\n",
              "      <td>expected behaviorr alarm actions pid pid enabl...</td>\n",
              "      <td>175</td>\n",
              "      <td>alarm arduinotc4</td>\n",
              "      <td>2</td>\n",
              "    </tr>\n",
              "    <tr>\n",
              "      <th>...</th>\n",
              "      <td>...</td>\n",
              "      <td>...</td>\n",
              "      <td>...</td>\n",
              "      <td>...</td>\n",
              "      <td>...</td>\n",
              "      <td>...</td>\n",
              "      <td>...</td>\n",
              "      <td>...</td>\n",
              "      <td>...</td>\n",
              "      <td>...</td>\n",
              "      <td>...</td>\n",
              "      <td>...</td>\n",
              "      <td>...</td>\n",
              "      <td>...</td>\n",
              "    </tr>\n",
              "    <tr>\n",
              "      <th>995</th>\n",
              "      <td>0</td>\n",
              "      <td>problem fetching images</td>\n",
              "      <td>dynamically loading cities label position some...</td>\n",
              "      <td>3</td>\n",
              "      <td>31</td>\n",
              "      <td>problem fetching images</td>\n",
              "      <td>dynamically loading cities label position some...</td>\n",
              "      <td>31</td>\n",
              "      <td>3</td>\n",
              "      <td>25</td>\n",
              "      <td>dynamically loading cities label position some...</td>\n",
              "      <td>23</td>\n",
              "      <td>fetching</td>\n",
              "      <td>1</td>\n",
              "    </tr>\n",
              "    <tr>\n",
              "      <th>996</th>\n",
              "      <td>1</td>\n",
              "      <td>climb vines ceiling</td>\n",
              "      <td>climb vines ceiling see httpswwwredditcomrmine...</td>\n",
              "      <td>3</td>\n",
              "      <td>10</td>\n",
              "      <td>climb vines ceiling</td>\n",
              "      <td>climb vines ceiling , see https : //www.reddit...</td>\n",
              "      <td>10</td>\n",
              "      <td>3</td>\n",
              "      <td>6</td>\n",
              "      <td>see command</td>\n",
              "      <td>2</td>\n",
              "      <td>climb vines ceiling</td>\n",
              "      <td>3</td>\n",
              "    </tr>\n",
              "    <tr>\n",
              "      <th>997</th>\n",
              "      <td>0</td>\n",
              "      <td>player disappears boss chunks</td>\n",
              "      <td>end game kill boss boss explode leaving little...</td>\n",
              "      <td>4</td>\n",
              "      <td>56</td>\n",
              "      <td>player disappears boss chunks</td>\n",
              "      <td>end game , kill boss , boss explode leaving li...</td>\n",
              "      <td>56</td>\n",
              "      <td>4</td>\n",
              "      <td>47</td>\n",
              "      <td>end game kill boss boss explode leaving little...</td>\n",
              "      <td>43</td>\n",
              "      <td>disappears</td>\n",
              "      <td>1</td>\n",
              "    </tr>\n",
              "    <tr>\n",
              "      <th>998</th>\n",
              "      <td>1</td>\n",
              "      <td>improves regexp routes</td>\n",
              "      <td>try implement next regexpr r   w         r r r...</td>\n",
              "      <td>3</td>\n",
              "      <td>55</td>\n",
              "      <td>improves regexp routes</td>\n",
              "      <td>try implement next regexp\\r \\r ^\\\\/\\\\^\\\\\\\\\\\\/ ...</td>\n",
              "      <td>55</td>\n",
              "      <td>3</td>\n",
              "      <td>25</td>\n",
              "      <td>try implement next r w r r r next type r ir r ...</td>\n",
              "      <td>16</td>\n",
              "      <td>improves routes</td>\n",
              "      <td>2</td>\n",
              "    </tr>\n",
              "    <tr>\n",
              "      <th>999</th>\n",
              "      <td>1</td>\n",
              "      <td>support datetimeoffset odataquery</td>\n",
              "      <td>spoke hovsepm this opening issue tracking addi...</td>\n",
              "      <td>3</td>\n",
              "      <td>22</td>\n",
              "      <td>support datetimeoffset odataquery</td>\n",
              "      <td>spoke @ hovsepm . opening issue tracking addin...</td>\n",
              "      <td>22</td>\n",
              "      <td>3</td>\n",
              "      <td>19</td>\n",
              "      <td>this opening issue tracking adding support par...</td>\n",
              "      <td>14</td>\n",
              "      <td>datetimeoffset odataquery</td>\n",
              "      <td>2</td>\n",
              "    </tr>\n",
              "  </tbody>\n",
              "</table>\n",
              "<p>1000 rows × 14 columns</p>\n",
              "</div>"
            ],
            "text/plain": [
              "     label  ... agg_num_tok_title\n",
              "0        1  ...                 3\n",
              "1        0  ...                 2\n",
              "2        1  ...                 0\n",
              "3        1  ...                 2\n",
              "4        0  ...                 2\n",
              "..     ...  ...               ...\n",
              "995      0  ...                 1\n",
              "996      1  ...                 3\n",
              "997      0  ...                 1\n",
              "998      1  ...                 2\n",
              "999      1  ...                 2\n",
              "\n",
              "[1000 rows x 14 columns]"
            ]
          },
          "metadata": {
            "tags": []
          },
          "execution_count": 191
        }
      ]
    },
    {
      "cell_type": "code",
      "metadata": {
        "id": "9_NZ9yrTOXBq"
      },
      "source": [
        "import string\n",
        "Punct = string.punctuation\n",
        "puncts = set(Punct)\n",
        "def remove_punct(x):\n",
        "    return x.translate(x.maketrans('','',Punct))"
      ],
      "execution_count": 118,
      "outputs": []
    },
    {
      "cell_type": "code",
      "metadata": {
        "id": "nLXlNdIMP91A"
      },
      "source": [
        "temp_train['title'] = temp_train['title'].apply(lambda x : remove_punct(x))\n",
        "temp_train['body'] = temp_train['body'].apply(lambda x : remove_punct(x))"
      ],
      "execution_count": null,
      "outputs": []
    },
    {
      "cell_type": "code",
      "metadata": {
        "id": "MTX-ndboQiNG"
      },
      "source": [
        "temp_train['num_tok_title'] = temp_train['title'].apply(lambda x:toke(x) )\n",
        "temp_train['num_tok_body'] = temp_train['body'].apply(lambda x:toke(x) )"
      ],
      "execution_count": null,
      "outputs": []
    },
    {
      "cell_type": "code",
      "metadata": {
        "id": "S3iig8ZbQPNV",
        "outputId": "0b44ef15-8f3e-4488-910a-4c4991a8f8d4",
        "colab": {
          "base_uri": "https://localhost:8080/",
          "height": 622
        }
      },
      "source": [
        "fig,axes = plt.subplots(figsize=(10,10),nrows=2,ncols=2)\n",
        "sns.histplot(temp_train['num_tok_title'],ax=axes[0][0])\n",
        "sns.histplot(temp_train['num_tok_Body'],ax=axes[0][1])\n",
        "sns.histplot(temp_train['num_stop_title'],ax=axes[1][0])\n",
        "sns.histplot(temp_train['num_stop_Body'],ax=axes[1][1])"
      ],
      "execution_count": 121,
      "outputs": [
        {
          "output_type": "execute_result",
          "data": {
            "text/plain": [
              "<matplotlib.axes._subplots.AxesSubplot at 0x7f7f15f307f0>"
            ]
          },
          "metadata": {
            "tags": []
          },
          "execution_count": 121
        },
        {
          "output_type": "display_data",
          "data": {
            "image/png": "[encoded data removed]",
            "text/plain": [
              "<Figure size 720x720 with 4 Axes>"
            ]
          },
          "metadata": {
            "tags": [],
            "needs_background": "light"
          }
        }
      ]
    },
    {
      "cell_type": "code",
      "metadata": {
        "id": "PKTZcJ9tQrfW",
        "outputId": "88c21152-3e51-4562-fb5e-0f6e70da79d9",
        "colab": {
          "base_uri": "https://localhost:8080/",
          "height": 330
        }
      },
      "source": [
        "temp_train.head()"
      ],
      "execution_count": 122,
      "outputs": [
        {
          "output_type": "execute_result",
          "data": {
            "text/html": [
              "<div>\n",
              "<style scoped>\n",
              "    .dataframe tbody tr th:only-of-type {\n",
              "        vertical-align: middle;\n",
              "    }\n",
              "\n",
              "    .dataframe tbody tr th {\n",
              "        vertical-align: top;\n",
              "    }\n",
              "\n",
              "    .dataframe thead th {\n",
              "        text-align: right;\n",
              "    }\n",
              "</style>\n",
              "<table border=\"1\" class=\"dataframe\">\n",
              "  <thead>\n",
              "    <tr style=\"text-align: right;\">\n",
              "      <th></th>\n",
              "      <th>label</th>\n",
              "      <th>title</th>\n",
              "      <th>body</th>\n",
              "      <th>num_tok_title</th>\n",
              "      <th>num_tok_Body</th>\n",
              "      <th>stop_title</th>\n",
              "      <th>stop_body</th>\n",
              "      <th>num_stop_Body</th>\n",
              "      <th>num_stop_title</th>\n",
              "      <th>num_tok_body</th>\n",
              "    </tr>\n",
              "  </thead>\n",
              "  <tbody>\n",
              "    <tr>\n",
              "      <th>0</th>\n",
              "      <td>1</td>\n",
              "      <td>yzoom piano roll</td>\n",
              "      <td>yzoom piano roll would useful</td>\n",
              "      <td>3</td>\n",
              "      <td>6</td>\n",
              "      <td>y-zoom piano roll</td>\n",
              "      <td>y-zoom piano roll would useful .</td>\n",
              "      <td>6</td>\n",
              "      <td>3</td>\n",
              "      <td>5</td>\n",
              "    </tr>\n",
              "    <tr>\n",
              "      <th>1</th>\n",
              "      <td>0</td>\n",
              "      <td>buggy behavior selection</td>\n",
              "      <td>screenshot 20160223 21 27 40 httpscloudgithub...</td>\n",
              "      <td>3</td>\n",
              "      <td>10</td>\n",
              "      <td>buggy behavior selection</td>\n",
              "      <td>! screenshot 2016-02-23 21 27 40 https : //clo...</td>\n",
              "      <td>10</td>\n",
              "      <td>3</td>\n",
              "      <td>7</td>\n",
              "    </tr>\n",
              "    <tr>\n",
              "      <th>2</th>\n",
              "      <td>1</td>\n",
              "      <td>auto update feature</td>\n",
              "      <td>hir r great job far saenzramiro   r r auto upd...</td>\n",
              "      <td>3</td>\n",
              "      <td>28</td>\n",
              "      <td>auto update feature</td>\n",
              "      <td>hi , \\r \\r great job far , @ saenzramiro ! : \\...</td>\n",
              "      <td>28</td>\n",
              "      <td>3</td>\n",
              "      <td>21</td>\n",
              "    </tr>\n",
              "    <tr>\n",
              "      <th>3</th>\n",
              "      <td>1</td>\n",
              "      <td>filter noisy endpoints logs</td>\n",
              "      <td>think stop logging requests tor  health r  gtg...</td>\n",
              "      <td>4</td>\n",
              "      <td>16</td>\n",
              "      <td>filter noisy endpoints logs</td>\n",
              "      <td>think stop logging requests : \\r - __health \\r...</td>\n",
              "      <td>16</td>\n",
              "      <td>4</td>\n",
              "      <td>11</td>\n",
              "    </tr>\n",
              "    <tr>\n",
              "      <th>4</th>\n",
              "      <td>0</td>\n",
              "      <td>enable pid  pid alarm actions arduinotc4</td>\n",
              "      <td>expected behaviorr alarm actions pid pid enabl...</td>\n",
              "      <td>6</td>\n",
              "      <td>245</td>\n",
              "      <td>enable pid / pid alarm actions arduino/tc4</td>\n",
              "      <td>expected behavior\\r alarm actions pid pid enab...</td>\n",
              "      <td>245</td>\n",
              "      <td>7</td>\n",
              "      <td>198</td>\n",
              "    </tr>\n",
              "  </tbody>\n",
              "</table>\n",
              "</div>"
            ],
            "text/plain": [
              "   label  ... num_tok_body\n",
              "0      1  ...            5\n",
              "1      0  ...            7\n",
              "2      1  ...           21\n",
              "3      1  ...           11\n",
              "4      0  ...          198\n",
              "\n",
              "[5 rows x 10 columns]"
            ]
          },
          "metadata": {
            "tags": []
          },
          "execution_count": 122
        }
      ]
    },
    {
      "cell_type": "code",
      "metadata": {
        "id": "SNwS_qBzR04Q"
      },
      "source": [
        "temp_train_grp = temp_train.groupby(by=\"num_stop_Body\").min()"
      ],
      "execution_count": 139,
      "outputs": []
    },
    {
      "cell_type": "code",
      "metadata": {
        "id": "pDF--BLcSMys",
        "outputId": "00a5742c-407d-4d03-9cf1-709e9ebd065b",
        "colab": {
          "base_uri": "https://localhost:8080/",
          "height": 70
        }
      },
      "source": [
        "temp_train[temp_train['num_tok_Body'] == 857]['body'].values"
      ],
      "execution_count": 152,
      "outputs": [
        {
          "output_type": "execute_result",
          "data": {
            "text/plain": [
              "array(['tried using winject chaoslauncher chaoslauncher runs wmode fine following error occurs running bwapir r  screenshot 20150713 10 18 03 httpscloudgithubusercontentcomassets1966366865171496e49320294811e585374bac5f0091aepng r r original issue posted florian richoux facebook group httpswwwfacebookcomgroupsbwapi  recent issue appeared bwapi updated use visual c 2013r r relevant error message isr r errmoduleimportdll loading library msvcp120dll needed l cprogram files x86 starcraftbwapidatabwapidll failed error c000007b r r r full logr r 1927254510016tracemoduleloaddll looking l msvcp120dll l cprogram files x86 starcraftcwindowssystem32cwindowssystemcwindowscwindowssystem32cwindowscwindowssystem32wbem r 1927254510016traceactctxrtlfindactivationcontextsectionstring 00000001 null 2 l msvcp120dll 0x34f430r 1927254510016traceheaprtlallocateheap 0x110000700000620000005c  returning 0x12f648r 1927254510016tracefilertldospathnametontpathnameu l cprogram files x86 starcraftmsvcp120dll 0x34f2e8 nil  nil r 1927254510016tracefilertlgetfullpathnameu l cprogram files x86 starcraftmsvcp120dll 520 0x34f098 nil r 1927254510016traceheaprtlallocateheap 0x110000700000620000006c  returning 0x12f6b8r 1927254510016traceheaprtlallocateheap 0x1100007000006200000152  returning 0x12f738r 1927254510016tracefilewinenttounixfilename l cprogram files x86 starcraftmsvcp120dll   homeheinermannwinedosdevicescprogram files x86 starcraftmsvcp120dll r 1927254510016traceheaprtlfreeheap 0x110000700000620x12f738  returning truer 1927254510016traceheaprtlfreeheap 0x110000700000620x12f6b8  returning truer 1927254510016tracefilertlgetfullpathnameu l cprogram files x86 starcraftmsvcp120dll 64 0x34f4f6 0x34f41c r 1927254510016traceheaprtlallocateheap 0x110000700000620000005c  returning 0x12f8a0r 1927254510016traceheaprtlfreeheap 0x110000700000620x12f8a0  returning truer 1927254510016traceheaprtlfreeheap 0x110000700000620x12f648  returning truer 1927254510016traceheaprtlallocateheap 0x110000700000620000005e  returning 0x12f910r 1927254510016traceactctxrtlfindactivationcontextsectionstring 00000001 null 2 l msvcp120dll 0x34f430r 1927254510016traceheaprtlallocateheap 0x110000700000620000005c  returning 0x12f980r 1927254510016tracefilertldospathnametontpathnameu l cprogram files x86 starcraftmsvcp120dll 0x34f2e8 nil  nil r 1927254510016tracefilertlgetfullpathnameu l cprogram files x86 starcraftmsvcp120dll 520 0x34f098 nil r 1927254510016traceheaprtlallocateheap 0x110000700000620000006c  returning 0x12f9f0r 1927254510016traceheaprtlallocateheap 0x1100007000006200000152  returning 0x12fa70r 1927254510016tracefilewinenttounixfilename l cprogram files x86 starcraftmsvcp120dll   homeheinermannwinedosdevicescprogram files x86 starcraftmsvcp120dll r 1927254510016traceheaprtlfreeheap 0x110000700000620x12fa70  returning truer 1927254510016traceheaprtlfreeheap 0x110000700000620x12f9f0  returning truer 1927254510016tracefilertlgetfullpathnameu l cprogram files x86 starcraftmsvcp120dll 94 0x12f910 0x34f41c r 1927254510016traceheaprtlfreeheap 0x110000700000620x12f980  returning truer 1927254510016tracefilertldospathnametontpathnameu l cprogram files x86 starcraftmsvcp120dll 0x34f420 nil  nil r 1927254510016tracefilertlgetfullpathnameu l cprogram files x86 starcraftmsvcp120dll 520 0x34f198 nil r 1927254510016traceheaprtlallocateheap 0x110000700000620000006c  returning 0x12fbd8r 1927254510016tracentdllfilecreatefile handle0x34f4dc access80000000 namel cprogram files x86 starcraftmsvcp120dll objattr00000040 root nil sec nil io0x34f428 allocsize nil attr00000000 sharing00000005 disp1 options00000060 ea nil 0x00000000r 1927254510016traceheaprtlallocateheap 0x1100007000006200000152  returning 0x12fc58r 1927254520016tracefilewinenttounixfilename l cprogram files x86 starcraftmsvcp120dll   homeheinermannwinedosdevicescprogram files x86 starcraftmsvcp120dll r 1927254520016traceheaprtlfreeheap 0x110000700000620x12fc58  returning truer 1927254520016traceheaprtlfreeheap 0x110000700000620x12fbd8  returning truer 1927254520016tracemodulegetloadorder looking l cprogram files x86 starcraftmsvcp120dll r 1927254520016traceheaprtlallocateheap 0x110000700000620000005e  returning 0x12fdc0r 1927254520016traceregntqueryvaluekey 0x2cl cprogram files x86 starcraftmsvcp120 20x34f32c80 r 1927254520016traceregntqueryvaluekey 0x2cl msvcp120 20x34f32c80 r 1927254520016traceregntqueryvaluekey 0x2cl msvcp120 20x34f32c80 r 1927254520016tracemodulegetloadordervalue got standard key nb l msvcp120 r 1927254520016traceheaprtlfreeheap 0x110000700000620x12fdc0  returning truer 1927254520016tracentdllntreadfile 0x38 nil  nil  nil 0x34f4ec0x34f5370x000000550x34f4e0 nil partial stubr 1927254520016tracentdllntreadfile  success 85 r 1927254520016tracemoduleloadnativedll trying native dll l cprogram files x86 starcraftmsvcp120dll r 1927254520016warnmoduleloaddll failed load module l msvcp120dll  statusc000007br 1927254520016traceheaprtlfreeheap 0x110000700000620x12f910  returning truer 1927254520016errmoduleimportdll loading library msvcp120dll needed l cprogram files x86 starcraftbwapidatabwapidll failed error c000007b r r r msvcp120dll exists loading fails essentially wine issue r solution route bwapi take statically link vs 2013 runtime library 93efa538d6766c39c2751e69479a634116f9f12a plugin injector work bot dll modules however'],\n",
              "      dtype=object)"
            ]
          },
          "metadata": {
            "tags": []
          },
          "execution_count": 152
        }
      ]
    },
    {
      "cell_type": "code",
      "metadata": {
        "id": "9A3DnjcdTpqG"
      },
      "source": [
        "# lets remove 'single char' words\n",
        "# https remove \n",
        "# del numbers \n",
        "\n"
      ],
      "execution_count": null,
      "outputs": []
    },
    {
      "cell_type": "markdown",
      "metadata": {
        "id": "4EFi4fmLyLvc"
      },
      "source": [
        "# Pytorch Implementation"
      ]
    },
    {
      "cell_type": "code",
      "metadata": {
        "id": "oinT5eewFcyr",
        "outputId": "8668b24f-3c59-46f5-e034-90edaf5924a4",
        "colab": {
          "base_uri": "https://localhost:8080/",
          "height": 65,
          "referenced_widgets": [
            "8b9e350f31b649a38b2ac5d96102c3f0",
            "a2eed2c2fb1f4f289fb849e871a63dbc",
            "8ff62d60f18242d59ec08ac5398daea7",
            "e834d402ed1948eea929ee87d25ebd65",
            "9ea223094f6f4f908bbd568f22da42d3",
            "1411ba123f464f25840317e393549faa",
            "e9230d74b3264673bb17627f379cd3ad",
            "ca9ad41c8ad540609119ccc03845c956"
          ]
        }
      },
      "source": [
        "class CONFIG:\n",
        "    DEVICE = 'cuda'\n",
        "    bert_path = 'bert-base-uncased'\n",
        "    tokenizer = transformers.BertTokenizer.from_pretrained(bert_path, do_lower_case=True)\n",
        "    MAX_LEN = 125\n",
        "    train_batch_size = 8\n",
        "    valid_batch_size = 8\n",
        "    model_path = '/content/'\n",
        "    epochs = 5\n",
        "    num_folds = 5\n",
        "\n"
      ],
      "execution_count": null,
      "outputs": [
        {
          "output_type": "display_data",
          "data": {
            "application/vnd.jupyter.widget-view+json": {
              "model_id": "8b9e350f31b649a38b2ac5d96102c3f0",
              "version_minor": 0,
              "version_major": 2
            },
            "text/plain": [
              "HBox(children=(FloatProgress(value=0.0, description='Downloading', max=231508.0, style=ProgressStyle(descripti…"
            ]
          },
          "metadata": {
            "tags": []
          }
        },
        {
          "output_type": "stream",
          "text": [
            "\n"
          ],
          "name": "stdout"
        }
      ]
    },
    {
      "cell_type": "code",
      "metadata": {
        "id": "S00s78R5Ffab"
      },
      "source": [
        "class Train_dataset(Dataset):\n",
        "    def __init__(self,title,label,max_len):\n",
        "        self.title = title\n",
        "        self.label = label\n",
        "        self.max_len = CONFIG.MAX_LEN\n",
        "        self.tokenizer = CONFIG.tokenizer\n",
        "    def __len__(self):\n",
        "        return len(self.title)\n",
        "    def __getitem__(self,idx):\n",
        "        review = str(self.title[idx])\n",
        "        review = \" \".join(review.split())\n",
        "        inputs = self.tokenizer.encode_plus(\n",
        "            review,\n",
        "            None,\n",
        "            add_special_tokens=True,\n",
        "            max_length = self.max_len,\n",
        "            padding = 'max_length'\n",
        "        )\n",
        "        ids = inputs['input_ids']\n",
        "        mask = inputs['attention_mask']\n",
        "        token_type_ids = inputs['token_type_ids']\n",
        "        targets = self.label[idx]\n",
        "        return {\n",
        "            \"ids\":torch.tensor(ids,dtype=torch.long),\n",
        "            \"mask\":torch.tensor(mask,dtype=torch.long),\n",
        "            \"token_type_ids\":torch.tensor(token_type_ids,dtype=torch.long),\n",
        "            \"targets\":torch.tensor(targets,dtype=torch.float)\n",
        "        }\n"
      ],
      "execution_count": null,
      "outputs": []
    },
    {
      "cell_type": "code",
      "metadata": {
        "id": "RU8SxaxXFhSJ"
      },
      "source": [
        "class Test_dataset(Dataset):\n",
        "    def __init__(self,title,max_len):\n",
        "        self.title = title\n",
        "        self.max_len = CONFIG.MAX_LEN\n",
        "        self.tokenizer = CONFIG.tokenizer\n",
        "    def __len__(self):\n",
        "        return len(self.title)\n",
        "    def __getitem__(self,idx):\n",
        "        review = str(self.title[idx])\n",
        "        review = \" \".join(review.split())\n",
        "        inputs = self.tokenizer.encode_plus(\n",
        "            review,\n",
        "            None,\n",
        "            add_special_tokens=True,\n",
        "            max_length = self.max_len,\n",
        "            padding = 'max_length'\n",
        "        )\n",
        "        ids = inputs['input_ids']\n",
        "        mask = inputs['attention_mask']\n",
        "        token_type_ids = inputs['token_type_ids']\n",
        "        return {\n",
        "            \"ids\":torch.tensor(ids,dtype=torch.long),\n",
        "            \"mask\":torch.tensor(mask,dtype=torch.long),\n",
        "            \"token_type_ids\":torch.tensor(token_type_ids,dtype=torch.long),\n",
        "        }\n"
      ],
      "execution_count": null,
      "outputs": []
    },
    {
      "cell_type": "code",
      "metadata": {
        "id": "e0Z7Zw0kFjVE"
      },
      "source": [
        "def loss_fn(outputs,targets):\n",
        "    return nn.CrossEntropyLoss()(outputs,targets)"
      ],
      "execution_count": null,
      "outputs": []
    },
    {
      "cell_type": "code",
      "metadata": {
        "id": "q_qdFTjQFkmp"
      },
      "source": [
        "def train_fn(model,train_loader,optimizer,device):\n",
        "    model.train()\n",
        "    tk0 = tqdm(train_loader,total = len(train_loader))\n",
        "    for n,data in enumerate(tk0):\n",
        "        ids = data['ids']\n",
        "        mask = data['mask']\n",
        "        token_type_ids = data['token_type_ids']\n",
        "        targets = data['targets'] \n",
        "        ids = ids.to(device,dtype=torch.long)\n",
        "        mask = mask.to(device,dtype=torch.long)\n",
        "        token_type_ids = token_type_ids.to(device,dtype=torch.long)\n",
        "        targets = targets.to(device,dtype=torch.long)\n",
        "        optimizer.zero_grad()\n",
        "        outputs = model(ids=ids,mask=mask,token_type_ids=token_type_ids)\n",
        "        loss = loss_fn(outputs,targets)\n",
        "        #print(f'Training loss {loss.item()} training Batch {n}')\n",
        "        loss.backward()\n",
        "        optimizer.step()\n",
        "        model.zero_grad()\n"
      ],
      "execution_count": null,
      "outputs": []
    },
    {
      "cell_type": "code",
      "metadata": {
        "id": "1jinXBDLFllj"
      },
      "source": [
        "def eval_fn(model,eval_loader,optimizer,device):\n",
        "    model.eval()\n",
        "    fin_targets = []\n",
        "    fin_outputs = []\n",
        "    tk0 = tqdm(eval_loader,total = len(eval_loader))\n",
        "    with torch.no_grad():        \n",
        "        for id,data in enumerate(tk0):\n",
        "            ids = data['ids']\n",
        "            mask = data['mask']\n",
        "            token_type_ids = data['token_type_ids']\n",
        "            targets = data['targets'] \n",
        "            ids = ids.to(device,dtype=torch.long)\n",
        "            mask = mask.to(device,dtype=torch.long)\n",
        "            token_type_ids = token_type_ids.to(device,dtype=torch.long)\n",
        "            targets = targets.to(device,dtype=torch.long)\n",
        "            outputs = model(ids=ids,mask=mask,token_type_ids=token_type_ids)\n",
        "            loss = loss_fn(outputs,targets)\n",
        "            sig_op = torch.argmax(torch.sigmoid(outputs),axis=1)\n",
        "            fin_targets.extend(targets.cpu().detach().numpy().tolist())\n",
        "            fin_outputs.extend(sig_op.cpu().detach().numpy().tolist())\n",
        "            #print(f'Valdition Loss {loss.item()} Val Accuracy :')\n",
        "    return fin_outputs,fin_targets"
      ],
      "execution_count": null,
      "outputs": []
    },
    {
      "cell_type": "code",
      "metadata": {
        "id": "irtyfCprFmya"
      },
      "source": [
        "def test_fn(model,test_loader,optimizer,device):\n",
        "    model.eval()\n",
        "    pred_targets = []\n",
        "    pred_outputs = []\n",
        "    tk0 = tqdm(test_loader,total = len(test_loader))\n",
        "    with torch.no_grad():        \n",
        "        for id,data in enumerate(tk0):\n",
        "            ids = data['ids']\n",
        "            mask = data['mask']\n",
        "            token_type_ids = data['token_type_ids']\n",
        "            ids = ids.to(device,dtype=torch.long)\n",
        "            mask = mask.to(device,dtype=torch.long)\n",
        "            token_type_ids = token_type_ids.to(device,dtype=torch.long)\n",
        "            outputs = model(ids=ids,mask=mask,token_type_ids=token_type_ids)\n",
        "            sig_op = torch.argmax(torch.sigmoid(outputs),axis=1)\n",
        "            pred_outputs.extend(sig_op.cpu().detach().numpy().tolist())\n",
        "            #print(f'Valdition Loss {loss.item()} Val Accuracy :')\n",
        "    return pred_outputs\n",
        "\n",
        "    # make some changes ie save the argmax of o/p , not only the sigmoids"
      ],
      "execution_count": null,
      "outputs": []
    },
    {
      "cell_type": "code",
      "metadata": {
        "id": "zBP5l0-lFnyI"
      },
      "source": [
        "class BertModel(nn.Module):\n",
        "    def __init__(self):\n",
        "        super(BertModel,self).__init__()\n",
        "        self.bert = transformers.BertModel.from_pretrained(CONFIG.bert_path)\n",
        "        self.drop = nn.Dropout(0.2)\n",
        "        self.out = nn.Linear(768,3)\n",
        "    def forward(self,ids,mask,token_type_ids):\n",
        "        _,op = self.bert(ids,attention_mask = mask,token_type_ids = token_type_ids)\n",
        "        x = self.drop(op)\n",
        "        output = self.out(x)\n",
        "        return output\n"
      ],
      "execution_count": null,
      "outputs": []
    },
    {
      "cell_type": "code",
      "metadata": {
        "id": "l2Tjz0QSFo2b",
        "outputId": "d5ef89d5-20f2-491b-a0e0-58e17ee13dab",
        "colab": {
          "base_uri": "https://localhost:8080/",
          "height": 117
        }
      },
      "source": [
        "train['kfold']  =-1\n",
        "from sklearn.model_selection import StratifiedKFold\n",
        "skf = StratifiedKFold(n_splits=5)\n",
        "train = train.sample(frac=1).reset_index(drop=True)\n",
        "y=train['label'].values\n",
        "for n,(t_idx,val_idx) in enumerate(skf.split(X=train,y=y)):\n",
        "    train.loc[val_idx,'kfold'] = n\n",
        "train['kfold'].value_counts()"
      ],
      "execution_count": null,
      "outputs": [
        {
          "output_type": "execute_result",
          "data": {
            "text/plain": [
              "4    30000\n",
              "3    30000\n",
              "2    30000\n",
              "1    30000\n",
              "0    30000\n",
              "Name: kfold, dtype: int64"
            ]
          },
          "metadata": {
            "tags": []
          },
          "execution_count": 37
        }
      ]
    },
    {
      "cell_type": "code",
      "metadata": {
        "id": "V3pqyigSGY2d"
      },
      "source": [
        "def run_single_fold(train,test,fold_num,device):\n",
        "    train = train.fillna(\"none\")\n",
        "    train_df = train[train['kfold']!=fold_num]\n",
        "    valid_df = train[train['kfold']==fold_num]\n",
        "    train_df = train_df.reset_index(drop=True)\n",
        "    valid_df = valid_df.reset_index(drop=True)\n",
        "    print(f\"train dataframe shape {train_df.shape}\")\n",
        "    print(f\"train dataframe shape {valid_df.shape}\")\n",
        "    train_ds = Train_dataset(train_df['title'][:5000],train_df['label'][:5000],max_len=CONFIG.MAX_LEN)\n",
        "    valid_ds = Train_dataset(valid_df['title'][:5000],valid_df['label'][:5000],max_len=CONFIG.MAX_LEN)\n",
        "    train_loader = DataLoader(train_ds,batch_size=CONFIG.train_batch_size,num_workers=2,shuffle=True)\n",
        "    valid_loader = DataLoader(valid_ds,batch_size=CONFIG.valid_batch_size,num_workers=2,shuffle=False)\n",
        "    device = torch.device(CONFIG.DEVICE)\n",
        "    model = BertModel()\n",
        "    model = model.to(device)\n",
        "    optimizer = AdamW(model.parameters(), lr=3e-5,correct_bias=False)\n",
        "    best_accuracy = 0\n",
        "    for epoch in range(CONFIG.epochs):\n",
        "        train_fn(model=model,train_loader=train_loader,optimizer=optimizer,device=device)\n",
        "        outputs,targets = eval_fn(model,valid_loader,optimizer,device=device)\n",
        "        accuracy = accuracy_score(outputs,targets)\n",
        "        print(outputs)\n",
        "        print(targets)\n",
        "        print(f\"Accuracy Score {accuracy} Epoch {epoch}\")\n",
        "        if accuracy>best_accuracy:\n",
        "            best_accuracy = accuracy\n",
        "            torch.save(model.state_dict(),f\"fold{fold_num}_seed{epoch}_train9.pth\")\n",
        "\n",
        "            # 5 fold training ; generate csv files for each , on a sample of data\n"
      ],
      "execution_count": null,
      "outputs": []
    },
    {
      "cell_type": "code",
      "metadata": {
        "id": "1vf05GmzHIkC",
        "outputId": "75db0817-f347-4e82-c8b9-ad03fcc103f7",
        "colab": {
          "base_uri": "https://localhost:8080/",
          "height": 302
        }
      },
      "source": [
        "run_single_fold(train,test,fold_num=2,device=CONFIG.DEVICE)"
      ],
      "execution_count": null,
      "outputs": [
        {
          "output_type": "error",
          "ename": "KeyboardInterrupt",
          "evalue": "ignored",
          "traceback": [
            "\u001b[0;31m---------------------------------------------------------------------------\u001b[0m",
            "\u001b[0;31mKeyboardInterrupt\u001b[0m                         Traceback (most recent call last)",
            "\u001b[0;32m<ipython-input-41-d9a0e017111c>\u001b[0m in \u001b[0;36m<module>\u001b[0;34m()\u001b[0m\n\u001b[0;32m----> 1\u001b[0;31m \u001b[0mrun_single_fold\u001b[0m\u001b[0;34m(\u001b[0m\u001b[0mtrain\u001b[0m\u001b[0;34m,\u001b[0m\u001b[0mtest\u001b[0m\u001b[0;34m,\u001b[0m\u001b[0mfold_num\u001b[0m\u001b[0;34m=\u001b[0m\u001b[0;36m2\u001b[0m\u001b[0;34m,\u001b[0m\u001b[0mdevice\u001b[0m\u001b[0;34m=\u001b[0m\u001b[0mCONFIG\u001b[0m\u001b[0;34m.\u001b[0m\u001b[0mDEVICE\u001b[0m\u001b[0;34m)\u001b[0m\u001b[0;34m\u001b[0m\u001b[0;34m\u001b[0m\u001b[0m\n\u001b[0m",
            "\u001b[0;32m<ipython-input-40-aab6b7a82f2b>\u001b[0m in \u001b[0;36mrun_single_fold\u001b[0;34m(train, test, fold_num, device)\u001b[0m\n\u001b[1;32m     18\u001b[0m     \u001b[0;32mfor\u001b[0m \u001b[0mepoch\u001b[0m \u001b[0;32min\u001b[0m \u001b[0mrange\u001b[0m\u001b[0;34m(\u001b[0m\u001b[0mCONFIG\u001b[0m\u001b[0;34m.\u001b[0m\u001b[0mepochs\u001b[0m\u001b[0;34m)\u001b[0m\u001b[0;34m:\u001b[0m\u001b[0;34m\u001b[0m\u001b[0;34m\u001b[0m\u001b[0m\n\u001b[1;32m     19\u001b[0m         \u001b[0mtrain_fn\u001b[0m\u001b[0;34m(\u001b[0m\u001b[0mmodel\u001b[0m\u001b[0;34m=\u001b[0m\u001b[0mmodel\u001b[0m\u001b[0;34m,\u001b[0m\u001b[0mtrain_loader\u001b[0m\u001b[0;34m=\u001b[0m\u001b[0mtrain_loader\u001b[0m\u001b[0;34m,\u001b[0m\u001b[0moptimizer\u001b[0m\u001b[0;34m=\u001b[0m\u001b[0moptimizer\u001b[0m\u001b[0;34m,\u001b[0m\u001b[0mdevice\u001b[0m\u001b[0;34m=\u001b[0m\u001b[0mdevice\u001b[0m\u001b[0;34m)\u001b[0m\u001b[0;34m\u001b[0m\u001b[0;34m\u001b[0m\u001b[0m\n\u001b[0;32m---> 20\u001b[0;31m         \u001b[0moutputs\u001b[0m\u001b[0;34m,\u001b[0m\u001b[0mtargets\u001b[0m \u001b[0;34m=\u001b[0m \u001b[0meval_fn\u001b[0m\u001b[0;34m(\u001b[0m\u001b[0mmodel\u001b[0m\u001b[0;34m,\u001b[0m\u001b[0mvalid_loader\u001b[0m\u001b[0;34m,\u001b[0m\u001b[0moptimizer\u001b[0m\u001b[0;34m,\u001b[0m\u001b[0mdevice\u001b[0m\u001b[0;34m=\u001b[0m\u001b[0mdevice\u001b[0m\u001b[0;34m)\u001b[0m\u001b[0;34m\u001b[0m\u001b[0;34m\u001b[0m\u001b[0m\n\u001b[0m\u001b[1;32m     21\u001b[0m         \u001b[0maccuracy\u001b[0m \u001b[0;34m=\u001b[0m \u001b[0maccuracy_score\u001b[0m\u001b[0;34m(\u001b[0m\u001b[0moutputs\u001b[0m\u001b[0;34m,\u001b[0m\u001b[0mtargets\u001b[0m\u001b[0;34m)\u001b[0m\u001b[0;34m\u001b[0m\u001b[0;34m\u001b[0m\u001b[0m\n\u001b[1;32m     22\u001b[0m         \u001b[0mprint\u001b[0m\u001b[0;34m(\u001b[0m\u001b[0moutputs\u001b[0m\u001b[0;34m)\u001b[0m\u001b[0;34m\u001b[0m\u001b[0;34m\u001b[0m\u001b[0m\n",
            "\u001b[0;32m<ipython-input-34-a8193b4e8eee>\u001b[0m in \u001b[0;36meval_fn\u001b[0;34m(model, eval_loader, optimizer, device)\u001b[0m\n\u001b[1;32m     17\u001b[0m             \u001b[0mloss\u001b[0m \u001b[0;34m=\u001b[0m \u001b[0mloss_fn\u001b[0m\u001b[0;34m(\u001b[0m\u001b[0moutputs\u001b[0m\u001b[0;34m,\u001b[0m\u001b[0mtargets\u001b[0m\u001b[0;34m)\u001b[0m\u001b[0;34m\u001b[0m\u001b[0;34m\u001b[0m\u001b[0m\n\u001b[1;32m     18\u001b[0m             \u001b[0msig_op\u001b[0m \u001b[0;34m=\u001b[0m \u001b[0mtorch\u001b[0m\u001b[0;34m.\u001b[0m\u001b[0margmax\u001b[0m\u001b[0;34m(\u001b[0m\u001b[0mtorch\u001b[0m\u001b[0;34m.\u001b[0m\u001b[0msigmoid\u001b[0m\u001b[0;34m(\u001b[0m\u001b[0moutputs\u001b[0m\u001b[0;34m)\u001b[0m\u001b[0;34m,\u001b[0m\u001b[0maxis\u001b[0m\u001b[0;34m=\u001b[0m\u001b[0;36m1\u001b[0m\u001b[0;34m)\u001b[0m\u001b[0;34m\u001b[0m\u001b[0;34m\u001b[0m\u001b[0m\n\u001b[0;32m---> 19\u001b[0;31m             \u001b[0mfin_targets\u001b[0m\u001b[0;34m.\u001b[0m\u001b[0mextend\u001b[0m\u001b[0;34m(\u001b[0m\u001b[0mtargets\u001b[0m\u001b[0;34m.\u001b[0m\u001b[0mcpu\u001b[0m\u001b[0;34m(\u001b[0m\u001b[0;34m)\u001b[0m\u001b[0;34m.\u001b[0m\u001b[0mdetach\u001b[0m\u001b[0;34m(\u001b[0m\u001b[0;34m)\u001b[0m\u001b[0;34m.\u001b[0m\u001b[0mnumpy\u001b[0m\u001b[0;34m(\u001b[0m\u001b[0;34m)\u001b[0m\u001b[0;34m.\u001b[0m\u001b[0mtolist\u001b[0m\u001b[0;34m(\u001b[0m\u001b[0;34m)\u001b[0m\u001b[0;34m)\u001b[0m\u001b[0;34m\u001b[0m\u001b[0;34m\u001b[0m\u001b[0m\n\u001b[0m\u001b[1;32m     20\u001b[0m             \u001b[0mfin_outputs\u001b[0m\u001b[0;34m.\u001b[0m\u001b[0mextend\u001b[0m\u001b[0;34m(\u001b[0m\u001b[0msig_op\u001b[0m\u001b[0;34m.\u001b[0m\u001b[0mcpu\u001b[0m\u001b[0;34m(\u001b[0m\u001b[0;34m)\u001b[0m\u001b[0;34m.\u001b[0m\u001b[0mdetach\u001b[0m\u001b[0;34m(\u001b[0m\u001b[0;34m)\u001b[0m\u001b[0;34m.\u001b[0m\u001b[0mnumpy\u001b[0m\u001b[0;34m(\u001b[0m\u001b[0;34m)\u001b[0m\u001b[0;34m.\u001b[0m\u001b[0mtolist\u001b[0m\u001b[0;34m(\u001b[0m\u001b[0;34m)\u001b[0m\u001b[0;34m)\u001b[0m\u001b[0;34m\u001b[0m\u001b[0;34m\u001b[0m\u001b[0m\n\u001b[1;32m     21\u001b[0m             \u001b[0;31m#print(f'Valdition Loss {loss.item()} Val Accuracy :')\u001b[0m\u001b[0;34m\u001b[0m\u001b[0;34m\u001b[0m\u001b[0;34m\u001b[0m\u001b[0m\n",
            "\u001b[0;31mKeyboardInterrupt\u001b[0m: "
          ]
        }
      ]
    },
    {
      "cell_type": "code",
      "metadata": {
        "id": "7uH4WDyWHPDC"
      },
      "source": [
        "!nvidia-smi\n",
        "#killall python\n",
        "\n"
      ],
      "execution_count": null,
      "outputs": []
    },
    {
      "cell_type": "code",
      "metadata": {
        "id": "svQaX3DXIuky"
      },
      "source": [
        "import torch, gc\n",
        "def clear_cache():\n",
        "    gc.collect()\n",
        "    torch.cuda.empty_cache()"
      ],
      "execution_count": null,
      "outputs": []
    },
    {
      "cell_type": "code",
      "metadata": {
        "id": "8kmFj7GiI2-f"
      },
      "source": [
        "clear_cache()"
      ],
      "execution_count": null,
      "outputs": []
    },
    {
      "cell_type": "code",
      "metadata": {
        "id": "XW2nqfIYQBy1"
      },
      "source": [
        "tmp = torch.rand((8,3))"
      ],
      "execution_count": null,
      "outputs": []
    },
    {
      "cell_type": "code",
      "metadata": {
        "id": "mP-PZPS-b0gz"
      },
      "source": [
        "test.shape\n"
      ],
      "execution_count": null,
      "outputs": []
    },
    {
      "cell_type": "code",
      "metadata": {
        "id": "XaJ_DZAGk5-A"
      },
      "source": [
        "# lets test this stuff on test_data:\n",
        "test_ds = Test_dataset(test['title'],max_len=CONFIG.MAX_LEN)\n",
        "test_dl = DataLoader(test_ds,batch_size=CONFIG.valid_batch_size,shuffle=False,num_workers=2)\n"
      ],
      "execution_count": null,
      "outputs": []
    },
    {
      "cell_type": "code",
      "metadata": {
        "id": "eA_E5CB62Ul9"
      },
      "source": [
        "model = BertModel()\n",
        "device = torch.device(CONFIG.DEVICE)\n",
        "model.to(device)\n",
        "\n"
      ],
      "execution_count": null,
      "outputs": []
    },
    {
      "cell_type": "code",
      "metadata": {
        "id": "TgIo5q003cjP"
      },
      "source": [
        "model.load_state_dict(torch.load(\"/content/fold1_seed1_train9.pth\"))\n",
        "model.eval()\n",
        "model.to(device)"
      ],
      "execution_count": null,
      "outputs": []
    },
    {
      "cell_type": "code",
      "metadata": {
        "id": "RQDquxJw3g80"
      },
      "source": [
        "prediction = test_fn(model=model,test_loader=test_dl,optimizer=optimizer,device=CONFIG.DEVICE)"
      ],
      "execution_count": null,
      "outputs": []
    },
    {
      "cell_type": "code",
      "metadata": {
        "id": "PIn3f-964Ot0"
      },
      "source": [
        "optimizer = AdamW(model.parameters(), lr=3e-5,correct_bias=False)\n"
      ],
      "execution_count": null,
      "outputs": []
    },
    {
      "cell_type": "code",
      "metadata": {
        "id": "1ecEGX6T4P-s"
      },
      "source": [
        "len(prediction)"
      ],
      "execution_count": null,
      "outputs": []
    },
    {
      "cell_type": "code",
      "metadata": {
        "id": "Ppe4zJO-5Iby"
      },
      "source": [
        "test_temp = test[:4000]\n"
      ],
      "execution_count": null,
      "outputs": []
    },
    {
      "cell_type": "code",
      "metadata": {
        "id": "jT3ORSfE5cql"
      },
      "source": [
        "test_temp['label2'] = prediction"
      ],
      "execution_count": null,
      "outputs": []
    },
    {
      "cell_type": "code",
      "metadata": {
        "id": "FjZL7BHM5dyb"
      },
      "source": [
        "test_temp.to_csv('prediction_1_seed1_train2.csv',index=False)"
      ],
      "execution_count": null,
      "outputs": []
    },
    {
      "cell_type": "code",
      "metadata": {
        "id": "s0cxbJoO5_Zu"
      },
      "source": [
        "df_pred_1 = pd.read_csv(\"/content/prediction_1_seed1_train4.csv\")"
      ],
      "execution_count": null,
      "outputs": []
    },
    {
      "cell_type": "code",
      "metadata": {
        "id": "L4fxYfoO6Xx1"
      },
      "source": [
        "test_temp['label'].value_counts()"
      ],
      "execution_count": null,
      "outputs": []
    },
    {
      "cell_type": "code",
      "metadata": {
        "id": "rVqNfuGN8beK"
      },
      "source": [
        "test_temp['label2'].value_counts()"
      ],
      "execution_count": null,
      "outputs": []
    },
    {
      "cell_type": "code",
      "metadata": {
        "id": "gca-GpGy8lUv"
      },
      "source": [
        "test_temp.to_csv(\"test_temp\",index=False)"
      ],
      "execution_count": null,
      "outputs": []
    },
    {
      "cell_type": "code",
      "metadata": {
        "id": "o2nkxT4i8tP_"
      },
      "source": [
        "iilo = pd.read_csv(\"/content/test_temp\")"
      ],
      "execution_count": null,
      "outputs": []
    },
    {
      "cell_type": "code",
      "metadata": {
        "id": "1vRS23Tm9JZV"
      },
      "source": [
        "fig,ax = plt.subplots(1,2)\n",
        "sns.countplot(iilo['label'],ax=ax[0])\n",
        "sns.countplot(iilo['label2'],ax=ax[1])"
      ],
      "execution_count": null,
      "outputs": []
    },
    {
      "cell_type": "code",
      "metadata": {
        "id": "lH_O4RKF9J5O"
      },
      "source": [
        "submission_df = pd.DataFrame(prediction,columns=['label'])"
      ],
      "execution_count": null,
      "outputs": []
    },
    {
      "cell_type": "code",
      "metadata": {
        "id": "IPnWs8rLc37Y"
      },
      "source": [
        ""
      ],
      "execution_count": null,
      "outputs": []
    },
    {
      "cell_type": "code",
      "metadata": {
        "id": "_WOE8pRfc8dQ"
      },
      "source": [
        "submission_df.to_csv('20k_1_sub.csv',index=False)"
      ],
      "execution_count": null,
      "outputs": []
    },
    {
      "cell_type": "code",
      "metadata": {
        "id": "75oP3tSpdIJd"
      },
      "source": [
        "print('jeck')"
      ],
      "execution_count": null,
      "outputs": []
    },
    {
      "cell_type": "code",
      "metadata": {
        "id": "IibO6eF14tOh"
      },
      "source": [
        "len('jack is a bitch')"
      ],
      "execution_count": null,
      "outputs": []
    },
    {
      "cell_type": "code",
      "metadata": {
        "id": "ZvYPUvKqTae0"
      },
      "source": [
        "\n",
        "\n"
      ],
      "execution_count": null,
      "outputs": []
    },
    {
      "cell_type": "code",
      "metadata": {
        "id": "XiDUni__jnh-"
      },
      "source": [
        "token_lens"
      ],
      "execution_count": null,
      "outputs": []
    },
    {
      "cell_type": "code",
      "metadata": {
        "id": "3nFtP30Ykx7U"
      },
      "source": [
        ""
      ],
      "execution_count": null,
      "outputs": []
    }
  ]
}