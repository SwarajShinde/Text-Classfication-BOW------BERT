{
  "nbformat": 4,
  "nbformat_minor": 0,
  "metadata": {
    "colab": {
      "name": "NLP_Sent_bow_bert.ipynb",
      "provenance": [],
      "collapsed_sections": [
        "rG_9T4JkrMz9",
        "NuU60-Tiseqw",
        "LN7e7_GTsyRj",
        "GDaUAw-x5OEW",
        "Cmr_iQ4r905x",
        "etN4VMWwMaaz",
        "zd8XYQZCG3LI"
      ],
      "authorship_tag": "ABX9TyPFzzlTw4Fu3POVdYhuh/bP",
      "include_colab_link": true
    },
    "kernelspec": {
      "name": "python3",
      "display_name": "Python 3"
    }
  },
  "cells": [
    {
      "cell_type": "markdown",
      "metadata": {
        "id": "view-in-github",
        "colab_type": "text"
      },
      "source": [
        "<a href=\"https://colab.research.google.com/github/SwarajShinde/Text-Classfication-BOW------BERT/blob/main/NLP_Sent_bow_bert.ipynb\" target=\"_parent\"><img src=\"https://colab.research.google.com/assets/colab-badge.svg\" alt=\"Open In Colab\"/></a>"
      ]
    },
    {
      "cell_type": "code",
      "metadata": {
        "id": "ZMUBSsOTpexd"
      },
      "source": [
        "import pandas as pd\n",
        "import numpy as np\n",
        "import seaborn as sns\n",
        "import matplotlib.pyplot as plt\n",
        "%matplotlib inline"
      ],
      "execution_count": 1,
      "outputs": []
    },
    {
      "cell_type": "code",
      "metadata": {
        "id": "aHP7jPEFqOz9",
        "outputId": "ac4d48c5-f680-416f-8a28-dc3f7052de50",
        "colab": {
          "base_uri": "https://localhost:8080/",
          "height": 33
        }
      },
      "source": [
        "from google.colab import drive\n",
        "drive.mount('/content/drive/')"
      ],
      "execution_count": 2,
      "outputs": [
        {
          "output_type": "stream",
          "text": [
            "Mounted at /content/drive/\n"
          ],
          "name": "stdout"
        }
      ]
    },
    {
      "cell_type": "code",
      "metadata": {
        "id": "TvakTW3YqU-L"
      },
      "source": [
        "df = pd.read_csv(\"/content/drive/My Drive/imdb_movie_reviews/IMDB Dataset.csv\")"
      ],
      "execution_count": 3,
      "outputs": []
    },
    {
      "cell_type": "markdown",
      "metadata": {
        "id": "rG_9T4JkrMz9"
      },
      "source": [
        "# Data Understanding"
      ]
    },
    {
      "cell_type": "code",
      "metadata": {
        "id": "bfz59K7gqewj",
        "outputId": "b869e728-127b-4c0c-b72c-9fb9447d2636",
        "colab": {
          "base_uri": "https://localhost:8080/",
          "height": 196
        }
      },
      "source": [
        "df.head()\n"
      ],
      "execution_count": 4,
      "outputs": [
        {
          "output_type": "execute_result",
          "data": {
            "text/html": [
              "<div>\n",
              "<style scoped>\n",
              "    .dataframe tbody tr th:only-of-type {\n",
              "        vertical-align: middle;\n",
              "    }\n",
              "\n",
              "    .dataframe tbody tr th {\n",
              "        vertical-align: top;\n",
              "    }\n",
              "\n",
              "    .dataframe thead th {\n",
              "        text-align: right;\n",
              "    }\n",
              "</style>\n",
              "<table border=\"1\" class=\"dataframe\">\n",
              "  <thead>\n",
              "    <tr style=\"text-align: right;\">\n",
              "      <th></th>\n",
              "      <th>review</th>\n",
              "      <th>sentiment</th>\n",
              "    </tr>\n",
              "  </thead>\n",
              "  <tbody>\n",
              "    <tr>\n",
              "      <th>0</th>\n",
              "      <td>One of the other reviewers has mentioned that ...</td>\n",
              "      <td>positive</td>\n",
              "    </tr>\n",
              "    <tr>\n",
              "      <th>1</th>\n",
              "      <td>A wonderful little production. &lt;br /&gt;&lt;br /&gt;The...</td>\n",
              "      <td>positive</td>\n",
              "    </tr>\n",
              "    <tr>\n",
              "      <th>2</th>\n",
              "      <td>I thought this was a wonderful way to spend ti...</td>\n",
              "      <td>positive</td>\n",
              "    </tr>\n",
              "    <tr>\n",
              "      <th>3</th>\n",
              "      <td>Basically there's a family where a little boy ...</td>\n",
              "      <td>negative</td>\n",
              "    </tr>\n",
              "    <tr>\n",
              "      <th>4</th>\n",
              "      <td>Petter Mattei's \"Love in the Time of Money\" is...</td>\n",
              "      <td>positive</td>\n",
              "    </tr>\n",
              "  </tbody>\n",
              "</table>\n",
              "</div>"
            ],
            "text/plain": [
              "                                              review sentiment\n",
              "0  One of the other reviewers has mentioned that ...  positive\n",
              "1  A wonderful little production. <br /><br />The...  positive\n",
              "2  I thought this was a wonderful way to spend ti...  positive\n",
              "3  Basically there's a family where a little boy ...  negative\n",
              "4  Petter Mattei's \"Love in the Time of Money\" is...  positive"
            ]
          },
          "metadata": {
            "tags": []
          },
          "execution_count": 4
        }
      ]
    },
    {
      "cell_type": "code",
      "metadata": {
        "id": "Bj673n-VqhB-",
        "outputId": "9cf26dac-a08c-43e4-f52d-7fec9332dd3e",
        "colab": {
          "base_uri": "https://localhost:8080/",
          "height": 281
        }
      },
      "source": [
        "df['review'].str.len().hist()"
      ],
      "execution_count": 6,
      "outputs": [
        {
          "output_type": "execute_result",
          "data": {
            "text/plain": [
              "<matplotlib.axes._subplots.AxesSubplot at 0x7fd561d62160>"
            ]
          },
          "metadata": {
            "tags": []
          },
          "execution_count": 6
        },
        {
          "output_type": "display_data",
          "data": {
            "image/png": "[encoded data removed]",
            "text/plain": [
              "<Figure size 432x288 with 1 Axes>"
            ]
          },
          "metadata": {
            "tags": [],
            "needs_background": "light"
          }
        }
      ]
    },
    {
      "cell_type": "code",
      "metadata": {
        "id": "FWXCHg5RqkSP"
      },
      "source": [
        "def num_tok(txt):\n",
        "    txt_f = txt.split()\n",
        "    print(len(txt_f))\n"
      ],
      "execution_count": 7,
      "outputs": []
    },
    {
      "cell_type": "code",
      "metadata": {
        "id": "9joKcFQbq3dD"
      },
      "source": [
        "sample_ = df['review'][0]"
      ],
      "execution_count": 9,
      "outputs": []
    },
    {
      "cell_type": "code",
      "metadata": {
        "id": "ap_6riljq68J",
        "outputId": "441ba351-b755-479d-b7e7-7b76171e48a4",
        "colab": {
          "base_uri": "https://localhost:8080/",
          "height": 33
        }
      },
      "source": [
        "len(sample_)"
      ],
      "execution_count": 12,
      "outputs": [
        {
          "output_type": "execute_result",
          "data": {
            "text/plain": [
              "1761"
            ]
          },
          "metadata": {
            "tags": []
          },
          "execution_count": 12
        }
      ]
    },
    {
      "cell_type": "code",
      "metadata": {
        "id": "EReei5TxrB4L",
        "outputId": "31cc5fc9-7365-4749-d73e-c4cda136ec8d",
        "colab": {
          "base_uri": "https://localhost:8080/",
          "height": 33
        }
      },
      "source": [
        "num_tok(sample_)"
      ],
      "execution_count": 11,
      "outputs": [
        {
          "output_type": "stream",
          "text": [
            "307\n"
          ],
          "name": "stdout"
        }
      ]
    },
    {
      "cell_type": "code",
      "metadata": {
        "id": "L7fEbfuQrFvs",
        "outputId": "da11f6bd-4323-4b40-8e40-731b7f5a0828",
        "colab": {
          "base_uri": "https://localhost:8080/",
          "height": 33
        }
      },
      "source": [
        "df['review'].str.len().max()"
      ],
      "execution_count": 13,
      "outputs": [
        {
          "output_type": "execute_result",
          "data": {
            "text/plain": [
              "13704"
            ]
          },
          "metadata": {
            "tags": []
          },
          "execution_count": 13
        }
      ]
    },
    {
      "cell_type": "code",
      "metadata": {
        "id": "2g1f4jFDrlnr",
        "outputId": "841f3f07-6684-4e6b-a1a1-9983f5b2a6e2",
        "colab": {
          "base_uri": "https://localhost:8080/",
          "height": 349
        }
      },
      "source": [
        "sns.countplot(df['sentiment'])"
      ],
      "execution_count": 14,
      "outputs": [
        {
          "output_type": "stream",
          "text": [
            "/usr/local/lib/python3.6/dist-packages/seaborn/_decorators.py:43: FutureWarning: Pass the following variable as a keyword arg: x. From version 0.12, the only valid positional argument will be `data`, and passing other arguments without an explicit keyword will result in an error or misinterpretation.\n",
            "  FutureWarning\n"
          ],
          "name": "stderr"
        },
        {
          "output_type": "execute_result",
          "data": {
            "text/plain": [
              "<matplotlib.axes._subplots.AxesSubplot at 0x7fd5616cb2b0>"
            ]
          },
          "metadata": {
            "tags": []
          },
          "execution_count": 14
        },
        {
          "output_type": "display_data",
          "data": {
            "image/png": "[encoded data removed]",
            "text/plain": [
              "<Figure size 432x288 with 1 Axes>"
            ]
          },
          "metadata": {
            "tags": [],
            "needs_background": "light"
          }
        }
      ]
    },
    {
      "cell_type": "markdown",
      "metadata": {
        "id": "NuU60-Tiseqw"
      },
      "source": [
        "# NLTK Tokenizer examples"
      ]
    },
    {
      "cell_type": "code",
      "metadata": {
        "id": "8oJc_p8zrYV-"
      },
      "source": [
        "import nltk\n",
        "nltk.download('punkt')"
      ],
      "execution_count": null,
      "outputs": []
    },
    {
      "cell_type": "code",
      "metadata": {
        "id": "SZuM5j6Vru58"
      },
      "source": [
        "from nltk.tokenize import word_tokenize,wordpunct_tokenize,sent_tokenize"
      ],
      "execution_count": 28,
      "outputs": []
    },
    {
      "cell_type": "code",
      "metadata": {
        "id": "sUcNgEjNryQK"
      },
      "source": [
        "ret = word_tokenize(sample_)"
      ],
      "execution_count": 19,
      "outputs": []
    },
    {
      "cell_type": "code",
      "metadata": {
        "id": "Az1q8iulr4ee",
        "outputId": "68099e53-eaf6-4527-ed7a-7105aae29e2e",
        "colab": {
          "base_uri": "https://localhost:8080/",
          "height": 33
        }
      },
      "source": [
        "ret[:5]"
      ],
      "execution_count": 22,
      "outputs": [
        {
          "output_type": "execute_result",
          "data": {
            "text/plain": [
              "['One', 'of', 'the', 'other', 'reviewers']"
            ]
          },
          "metadata": {
            "tags": []
          },
          "execution_count": 22
        }
      ]
    },
    {
      "cell_type": "code",
      "metadata": {
        "id": "ku8ND4Ror-Xb"
      },
      "source": [
        "ret_p = wordpunct_tokenize(sample_)\n"
      ],
      "execution_count": 24,
      "outputs": []
    },
    {
      "cell_type": "code",
      "metadata": {
        "id": "LQsi-ULssKuT",
        "outputId": "fd87f62a-01d0-4e7a-bbd1-e371aac04eee",
        "colab": {
          "base_uri": "https://localhost:8080/",
          "height": 33
        }
      },
      "source": [
        "len(ret_p)"
      ],
      "execution_count": 27,
      "outputs": [
        {
          "output_type": "execute_result",
          "data": {
            "text/plain": [
              "377"
            ]
          },
          "metadata": {
            "tags": []
          },
          "execution_count": 27
        }
      ]
    },
    {
      "cell_type": "code",
      "metadata": {
        "id": "mrPF3RZysLmG"
      },
      "source": [
        "sent_p = sent_tokenize(sample_)"
      ],
      "execution_count": 29,
      "outputs": []
    },
    {
      "cell_type": "code",
      "metadata": {
        "id": "kNrZOSk_sYmc",
        "outputId": "d286dec3-85e4-4f29-d488-39e52489822f",
        "colab": {
          "base_uri": "https://localhost:8080/",
          "height": 204
        }
      },
      "source": [
        "sent_p"
      ],
      "execution_count": 30,
      "outputs": [
        {
          "output_type": "execute_result",
          "data": {
            "text/plain": [
              "[\"One of the other reviewers has mentioned that after watching just 1 Oz episode you'll be hooked.\",\n",
              " 'They are right, as this is exactly what happened with me.<br /><br />The first thing that struck me about Oz was its brutality and unflinching scenes of violence, which set in right from the word GO.',\n",
              " 'Trust me, this is not a show for the faint hearted or timid.',\n",
              " 'This show pulls no punches with regards to drugs, sex or violence.',\n",
              " 'Its is hardcore, in the classic use of the word.<br /><br />It is called OZ as that is the nickname given to the Oswald Maximum Security State Penitentary.',\n",
              " 'It focuses mainly on Emerald City, an experimental section of the prison where all the cells have glass fronts and face inwards, so privacy is not high on the agenda.',\n",
              " \"Em City is home to many..Aryans, Muslims, gangstas, Latinos, Christians, Italians, Irish and more....so scuffles, death stares, dodgy dealings and shady agreements are never far away.<br /><br />I would say the main appeal of the show is due to the fact that it goes where other shows wouldn't dare.\",\n",
              " \"Forget pretty pictures painted for mainstream audiences, forget charm, forget romance...OZ doesn't mess around.\",\n",
              " \"The first episode I ever saw struck me as so nasty it was surreal, I couldn't say I was ready for it, but as I watched more, I developed a taste for Oz, and got accustomed to the high levels of graphic violence.\",\n",
              " \"Not just violence, but injustice (crooked guards who'll be sold out for a nickel, inmates who'll kill on order and get away with it, well mannered, middle class inmates being turned into prison bitches due to their lack of street skills or prison experience) Watching Oz, you may become comfortable with what is uncomfortable viewing....thats if you can get in touch with your darker side.\"]"
            ]
          },
          "metadata": {
            "tags": []
          },
          "execution_count": 30
        }
      ]
    },
    {
      "cell_type": "markdown",
      "metadata": {
        "id": "LN7e7_GTsyRj"
      },
      "source": [
        "# Bag of Words"
      ]
    },
    {
      "cell_type": "code",
      "metadata": {
        "id": "aNSM4EYQsZjE"
      },
      "source": [
        "from sklearn.feature_extraction.text import CountVectorizer"
      ],
      "execution_count": 31,
      "outputs": []
    },
    {
      "cell_type": "code",
      "metadata": {
        "id": "GvIaCNSps9qe"
      },
      "source": [
        "cv = CountVectorizer()"
      ],
      "execution_count": 32,
      "outputs": []
    },
    {
      "cell_type": "code",
      "metadata": {
        "id": "R5OAyMj9tAdw",
        "outputId": "0d55725a-0064-4a2e-f74c-c01a53aa3f69",
        "colab": {
          "base_uri": "https://localhost:8080/",
          "height": 117
        }
      },
      "source": [
        "# example corpus\n",
        "cv.fit(sent_p)"
      ],
      "execution_count": 33,
      "outputs": [
        {
          "output_type": "execute_result",
          "data": {
            "text/plain": [
              "CountVectorizer(analyzer='word', binary=False, decode_error='strict',\n",
              "                dtype=<class 'numpy.int64'>, encoding='utf-8', input='content',\n",
              "                lowercase=True, max_df=1.0, max_features=None, min_df=1,\n",
              "                ngram_range=(1, 1), preprocessor=None, stop_words=None,\n",
              "                strip_accents=None, token_pattern='(?u)\\\\b\\\\w\\\\w+\\\\b',\n",
              "                tokenizer=None, vocabulary=None)"
            ]
          },
          "metadata": {
            "tags": []
          },
          "execution_count": 33
        }
      ]
    },
    {
      "cell_type": "code",
      "metadata": {
        "id": "7lTKO_ectMLa"
      },
      "source": [
        "corpus_transformed = cv.transform(sent_p)"
      ],
      "execution_count": 34,
      "outputs": []
    },
    {
      "cell_type": "code",
      "metadata": {
        "id": "8mgK57rNtS-z",
        "outputId": "13b0e67d-61fb-4ca2-d7b6-45ecc051631f",
        "colab": {
          "base_uri": "https://localhost:8080/",
          "height": 50
        }
      },
      "source": [
        "corpus_transformed"
      ],
      "execution_count": 35,
      "outputs": [
        {
          "output_type": "execute_result",
          "data": {
            "text/plain": [
              "<10x186 sparse matrix of type '<class 'numpy.int64'>'\n",
              "\twith 273 stored elements in Compressed Sparse Row format>"
            ]
          },
          "metadata": {
            "tags": []
          },
          "execution_count": 35
        }
      ]
    },
    {
      "cell_type": "code",
      "metadata": {
        "id": "Fn8zyR4AtT5m"
      },
      "source": [
        "print(corpus_transformed)"
      ],
      "execution_count": null,
      "outputs": []
    },
    {
      "cell_type": "code",
      "metadata": {
        "id": "S_0pPPWItak1",
        "outputId": "eb9919f7-ada9-4def-c423-1fcfc63a2735",
        "colab": {
          "base_uri": "https://localhost:8080/",
          "height": 53
        }
      },
      "source": [
        "# vocab stored by count -vectorizer\n",
        "print(cv.vocabulary_)"
      ],
      "execution_count": 39,
      "outputs": [
        {
          "output_type": "stream",
          "text": [
            "{'one': 114, 'of': 112, 'the': 157, 'other': 118, 'reviewers': 131, 'has': 70, 'mentioned': 101, 'that': 155, 'after': 2, 'watching': 174, 'just': 87, 'oz': 120, 'episode': 44, 'you': 184, 'll': 92, 'be': 15, 'hooked': 75, 'they': 159, 'are': 9, 'right': 132, 'as': 12, 'this': 161, 'is': 83, 'exactly': 46, 'what': 176, 'happened': 68, 'with': 180, 'me': 100, 'br': 19, 'first': 53, 'thing': 160, 'struck': 152, 'about': 0, 'was': 172, 'its': 86, 'brutality': 20, 'and': 7, 'unflinching': 168, 'scenes': 136, 'violence': 171, 'which': 178, 'set': 140, 'in': 77, 'from': 57, 'word': 181, 'go': 63, 'trust': 165, 'not': 111, 'show': 143, 'for': 55, 'faint': 51, 'hearted': 72, 'or': 115, 'timid': 162, 'pulls': 127, 'no': 110, 'punches': 128, 'regards': 130, 'to': 163, 'drugs': 40, 'sex': 141, 'hardcore': 69, 'classic': 29, 'use': 169, 'it': 84, 'called': 22, 'nickname': 109, 'given': 61, 'oswald': 117, 'maximum': 98, 'security': 139, 'state': 150, 'penitentary': 122, 'focuses': 54, 'mainly': 94, 'on': 113, 'emerald': 43, 'city': 27, 'an': 6, 'experimental': 48, 'section': 138, 'prison': 125, 'where': 177, 'all': 5, 'cells': 24, 'have': 71, 'glass': 62, 'fronts': 58, 'face': 49, 'inwards': 81, 'so': 147, 'privacy': 126, 'high': 73, 'agenda': 3, 'em': 42, 'home': 74, 'many': 97, 'aryans': 11, 'muslims': 105, 'gangstas': 59, 'latinos': 90, 'christians': 26, 'italians': 85, 'irish': 82, 'more': 104, 'scuffles': 137, 'death': 36, 'stares': 149, 'dodgy': 38, 'dealings': 35, 'shady': 142, 'agreements': 4, 'never': 107, 'far': 52, 'away': 14, 'would': 182, 'say': 135, 'main': 93, 'appeal': 8, 'due': 41, 'fact': 50, 'goes': 64, 'shows': 144, 'wouldn': 183, 'dare': 33, 'forget': 56, 'pretty': 124, 'pictures': 123, 'painted': 121, 'mainstream': 95, 'audiences': 13, 'charm': 25, 'romance': 133, 'doesn': 39, 'mess': 102, 'around': 10, 'ever': 45, 'saw': 134, 'nasty': 106, 'surreal': 153, 'couldn': 31, 'ready': 129, 'but': 21, 'watched': 173, 'developed': 37, 'taste': 154, 'got': 65, 'accustomed': 1, 'levels': 91, 'graphic': 66, 'injustice': 78, 'crooked': 32, 'guards': 67, 'who': 179, 'sold': 148, 'out': 119, 'nickel': 108, 'inmates': 79, 'kill': 88, 'order': 116, 'get': 60, 'well': 175, 'mannered': 96, 'middle': 103, 'class': 28, 'being': 17, 'turned': 166, 'into': 80, 'bitches': 18, 'their': 158, 'lack': 89, 'street': 151, 'skills': 146, 'experience': 47, 'may': 99, 'become': 16, 'comfortable': 30, 'uncomfortable': 167, 'viewing': 170, 'thats': 156, 'if': 76, 'can': 23, 'touch': 164, 'your': 185, 'darker': 34, 'side': 145}\n"
          ],
          "name": "stdout"
        }
      ]
    },
    {
      "cell_type": "code",
      "metadata": {
        "id": "ZN3YMMg9txU2"
      },
      "source": [
        "# we can use diff tokenier , other than the CountVectorizer \n",
        "# This inclued various punctuation marks in the tokens\n",
        "cvt = CountVectorizer(tokenizer=word_tokenize,token_pattern=None)\n",
        "cvt.fit(sent_p)\n",
        "corpus_trans_1 = cvt.transform(sent_p)\n"
      ],
      "execution_count": 44,
      "outputs": []
    },
    {
      "cell_type": "code",
      "metadata": {
        "id": "FxJj-a6Ut3KM",
        "outputId": "de6a88ab-0007-457a-8e6c-caf6b3f4f9da",
        "colab": {
          "base_uri": "https://localhost:8080/",
          "height": 50
        }
      },
      "source": [
        "corpus_trans_1"
      ],
      "execution_count": 45,
      "outputs": [
        {
          "output_type": "execute_result",
          "data": {
            "text/plain": [
              "<10x200 sparse matrix of type '<class 'numpy.int64'>'\n",
              "\twith 314 stored elements in Compressed Sparse Row format>"
            ]
          },
          "metadata": {
            "tags": []
          },
          "execution_count": 45
        }
      ]
    },
    {
      "cell_type": "code",
      "metadata": {
        "id": "a2nPWtHtubwM",
        "outputId": "1e0776be-7fe3-44ba-9d12-e37c6be69f1a",
        "colab": {
          "base_uri": "https://localhost:8080/",
          "height": 53
        }
      },
      "source": [
        "print(cvt.vocabulary_)"
      ],
      "execution_count": 47,
      "outputs": [
        {
          "output_type": "stream",
          "text": [
            "{'one': 129, 'of': 127, 'the': 171, 'other': 133, 'reviewers': 146, 'has': 83, 'mentioned': 115, 'that': 170, 'after': 15, 'watching': 188, 'just': 101, '1': 9, 'oz': 135, 'episode': 57, 'you': 198, \"'ll\": 0, 'be': 28, 'hooked': 88, '.': 4, 'they': 173, 'are': 22, 'right': 147, ',': 3, 'as': 24, 'this': 175, 'is': 97, 'exactly': 59, 'what': 190, 'happened': 81, 'with': 194, 'me.': 114, '<': 10, 'br': 32, '/': 8, '>': 11, 'first': 66, 'thing': 174, 'struck': 167, 'me': 113, 'about': 13, 'was': 186, 'its': 100, 'brutality': 33, 'and': 20, 'unflinching': 182, 'scenes': 151, 'violence': 185, 'which': 192, 'set': 155, 'in': 91, 'from': 70, 'word': 195, 'go': 76, 'trust': 179, 'not': 126, 'a': 12, 'show': 158, 'for': 68, 'faint': 64, 'hearted': 85, 'or': 130, 'timid': 176, 'pulls': 142, 'no': 125, 'punches': 143, 'regards': 145, 'to': 177, 'drugs': 53, 'sex': 156, 'hardcore': 82, 'classic': 42, 'use': 183, 'word.': 196, 'it': 98, 'called': 35, 'nickname': 124, 'given': 74, 'oswald': 132, 'maximum': 111, 'security': 154, 'state': 165, 'penitentary': 137, 'focuses': 67, 'mainly': 107, 'on': 128, 'emerald': 56, 'city': 40, 'an': 19, 'experimental': 61, 'section': 153, 'prison': 140, 'where': 191, 'all': 18, 'cells': 37, 'have': 84, 'glass': 75, 'fronts': 71, 'face': 62, 'inwards': 95, 'so': 162, 'privacy': 141, 'high': 86, 'agenda': 16, 'em': 55, 'home': 87, 'many..aryans': 110, 'muslims': 119, 'gangstas': 72, 'latinos': 104, 'christians': 39, 'italians': 99, 'irish': 96, 'more': 118, '...': 5, '.so': 6, 'scuffles': 152, 'death': 49, 'stares': 164, 'dodgy': 51, 'dealings': 48, 'shady': 157, 'agreements': 17, 'never': 122, 'far': 65, 'away.': 27, 'i': 89, 'would': 197, 'say': 150, 'main': 106, 'appeal': 21, 'due': 54, 'fact': 63, 'goes': 77, 'shows': 159, \"n't\": 120, 'dare': 46, 'forget': 69, 'pretty': 139, 'pictures': 138, 'painted': 136, 'mainstream': 108, 'audiences': 25, 'charm': 38, 'romance': 148, 'does': 52, 'mess': 116, 'around': 23, 'ever': 58, 'saw': 149, 'nasty': 121, 'surreal': 168, 'could': 44, 'ready': 144, 'but': 34, 'watched': 187, 'developed': 50, 'taste': 169, 'got': 78, 'accustomed': 14, 'levels': 105, 'graphic': 79, 'injustice': 92, '(': 1, 'crooked': 45, 'guards': 80, 'who': 193, 'sold': 163, 'out': 134, 'nickel': 123, 'inmates': 93, 'kill': 102, 'order': 131, 'get': 73, 'away': 26, 'well': 189, 'mannered': 109, 'middle': 117, 'class': 41, 'being': 30, 'turned': 180, 'into': 94, 'bitches': 31, 'their': 172, 'lack': 103, 'street': 166, 'skills': 161, 'experience': 60, ')': 2, 'may': 112, 'become': 29, 'comfortable': 43, 'uncomfortable': 181, 'viewing': 184, '.thats': 7, 'if': 90, 'can': 36, 'touch': 178, 'your': 199, 'darker': 47, 'side': 160}\n"
          ],
          "name": "stdout"
        }
      ]
    },
    {
      "cell_type": "code",
      "metadata": {
        "id": "siKP3-4zumYc"
      },
      "source": [
        "# NOw lets create sparse matrix for out dataset \n",
        "# well use Logistic REgression , Accuracy as our metric\n",
        "from sklearn import linear_model\n",
        "from sklearn import metrics\n",
        "from sklearn import model_selection\n",
        "import time"
      ],
      "execution_count": 64,
      "outputs": []
    },
    {
      "cell_type": "code",
      "metadata": {
        "id": "aVs5z01Iu4iK"
      },
      "source": [
        "df.sentiment = df.sentiment.apply(lambda x:1 if x=='positive' else 0)"
      ],
      "execution_count": 52,
      "outputs": []
    },
    {
      "cell_type": "code",
      "metadata": {
        "id": "ynuSf_AwvscA"
      },
      "source": [
        "df['kfold'] = -1\n",
        "df = df.sample(frac=1).reset_index(drop=True)"
      ],
      "execution_count": 55,
      "outputs": []
    },
    {
      "cell_type": "code",
      "metadata": {
        "id": "HTlr0-04wKyk"
      },
      "source": [
        "y=df.sentiment.values\n",
        "skf = model_selection.StratifiedKFold(n_splits=5)\n",
        "for num,(train_idx,val_idx) in enumerate(skf.split(X=df,y=y)):\n",
        "    df.loc[val_idx,'kfold'] = num\n",
        "    "
      ],
      "execution_count": 59,
      "outputs": []
    },
    {
      "cell_type": "code",
      "metadata": {
        "id": "qnQEIY5vwM-m",
        "outputId": "56c2345b-42bd-41b6-f3a8-b2f6a312c2e5",
        "colab": {
          "base_uri": "https://localhost:8080/",
          "height": 117
        }
      },
      "source": [
        "df['kfold'].value_counts()"
      ],
      "execution_count": 61,
      "outputs": [
        {
          "output_type": "execute_result",
          "data": {
            "text/plain": [
              "4    10000\n",
              "3    10000\n",
              "2    10000\n",
              "1    10000\n",
              "0    10000\n",
              "Name: kfold, dtype: int64"
            ]
          },
          "metadata": {
            "tags": []
          },
          "execution_count": 61
        }
      ]
    },
    {
      "cell_type": "code",
      "metadata": {
        "id": "JQwYh03KwuZc",
        "outputId": "d55addd8-ddb9-4d5f-affe-4d19ba360b18",
        "colab": {
          "base_uri": "https://localhost:8080/",
          "height": 957
        }
      },
      "source": [
        "# lets train the model \n",
        "\n",
        "for epoch in range(5):\n",
        "    start=time.time()\n",
        "    train = df[df['kfold']!=epoch].reset_index(drop=True)\n",
        "    valid = df[df['kfold']==epoch].reset_index(drop=True)\n",
        "    count_vect = CountVectorizer(tokenizer=word_tokenize,token_pattern=None)\n",
        "    count_vect.fit(train.review)\n",
        "    x_train = count_vect.transform(train.review)  \n",
        "    x_test =  count_vect.transform(valid.review)\n",
        "    model = linear_model.LogisticRegression()\n",
        "    model.fit(x_train,train.sentiment)\n",
        "    prediction = model.predict(x_test)\n",
        "    acc = metrics.accuracy_score(valid.sentiment,prediction)\n",
        "    end=time.time()\n",
        "    print(f\"Fold {epoch}\")\n",
        "    print(f'Accuracy : {acc}')\n",
        "    print(f'Count Vectorizer took {end-start} time for {epoch} fold')\n",
        "\n"
      ],
      "execution_count": 66,
      "outputs": [
        {
          "output_type": "stream",
          "text": [
            "/usr/local/lib/python3.6/dist-packages/sklearn/linear_model/_logistic.py:940: ConvergenceWarning: lbfgs failed to converge (status=1):\n",
            "STOP: TOTAL NO. of ITERATIONS REACHED LIMIT.\n",
            "\n",
            "Increase the number of iterations (max_iter) or scale the data as shown in:\n",
            "    https://scikit-learn.org/stable/modules/preprocessing.html\n",
            "Please also refer to the documentation for alternative solver options:\n",
            "    https://scikit-learn.org/stable/modules/linear_model.html#logistic-regression\n",
            "  extra_warning_msg=_LOGISTIC_SOLVER_CONVERGENCE_MSG)\n"
          ],
          "name": "stderr"
        },
        {
          "output_type": "stream",
          "text": [
            "Fold 0\n",
            "Accuracy : 0.8935\n",
            "Count Vectorizer took 177.35169458389282 time for 0 fold\n"
          ],
          "name": "stdout"
        },
        {
          "output_type": "stream",
          "text": [
            "/usr/local/lib/python3.6/dist-packages/sklearn/linear_model/_logistic.py:940: ConvergenceWarning: lbfgs failed to converge (status=1):\n",
            "STOP: TOTAL NO. of ITERATIONS REACHED LIMIT.\n",
            "\n",
            "Increase the number of iterations (max_iter) or scale the data as shown in:\n",
            "    https://scikit-learn.org/stable/modules/preprocessing.html\n",
            "Please also refer to the documentation for alternative solver options:\n",
            "    https://scikit-learn.org/stable/modules/linear_model.html#logistic-regression\n",
            "  extra_warning_msg=_LOGISTIC_SOLVER_CONVERGENCE_MSG)\n"
          ],
          "name": "stderr"
        },
        {
          "output_type": "stream",
          "text": [
            "Fold 1\n",
            "Accuracy : 0.8952\n",
            "Count Vectorizer took 175.8921570777893 time for 1 fold\n"
          ],
          "name": "stdout"
        },
        {
          "output_type": "stream",
          "text": [
            "/usr/local/lib/python3.6/dist-packages/sklearn/linear_model/_logistic.py:940: ConvergenceWarning: lbfgs failed to converge (status=1):\n",
            "STOP: TOTAL NO. of ITERATIONS REACHED LIMIT.\n",
            "\n",
            "Increase the number of iterations (max_iter) or scale the data as shown in:\n",
            "    https://scikit-learn.org/stable/modules/preprocessing.html\n",
            "Please also refer to the documentation for alternative solver options:\n",
            "    https://scikit-learn.org/stable/modules/linear_model.html#logistic-regression\n",
            "  extra_warning_msg=_LOGISTIC_SOLVER_CONVERGENCE_MSG)\n"
          ],
          "name": "stderr"
        },
        {
          "output_type": "stream",
          "text": [
            "Fold 2\n",
            "Accuracy : 0.8902\n",
            "Count Vectorizer took 176.28439044952393 time for 2 fold\n"
          ],
          "name": "stdout"
        },
        {
          "output_type": "stream",
          "text": [
            "/usr/local/lib/python3.6/dist-packages/sklearn/linear_model/_logistic.py:940: ConvergenceWarning: lbfgs failed to converge (status=1):\n",
            "STOP: TOTAL NO. of ITERATIONS REACHED LIMIT.\n",
            "\n",
            "Increase the number of iterations (max_iter) or scale the data as shown in:\n",
            "    https://scikit-learn.org/stable/modules/preprocessing.html\n",
            "Please also refer to the documentation for alternative solver options:\n",
            "    https://scikit-learn.org/stable/modules/linear_model.html#logistic-regression\n",
            "  extra_warning_msg=_LOGISTIC_SOLVER_CONVERGENCE_MSG)\n"
          ],
          "name": "stderr"
        },
        {
          "output_type": "stream",
          "text": [
            "Fold 3\n",
            "Accuracy : 0.8934\n",
            "Count Vectorizer took 176.6089653968811 time for 3 fold\n",
            "Fold 4\n",
            "Accuracy : 0.8879\n",
            "Count Vectorizer took 177.0667896270752 time for 4 fold\n"
          ],
          "name": "stdout"
        },
        {
          "output_type": "stream",
          "text": [
            "/usr/local/lib/python3.6/dist-packages/sklearn/linear_model/_logistic.py:940: ConvergenceWarning: lbfgs failed to converge (status=1):\n",
            "STOP: TOTAL NO. of ITERATIONS REACHED LIMIT.\n",
            "\n",
            "Increase the number of iterations (max_iter) or scale the data as shown in:\n",
            "    https://scikit-learn.org/stable/modules/preprocessing.html\n",
            "Please also refer to the documentation for alternative solver options:\n",
            "    https://scikit-learn.org/stable/modules/linear_model.html#logistic-regression\n",
            "  extra_warning_msg=_LOGISTIC_SOLVER_CONVERGENCE_MSG)\n"
          ],
          "name": "stderr"
        }
      ]
    },
    {
      "cell_type": "code",
      "metadata": {
        "id": "agGP8V6FyVrQ"
      },
      "source": [
        "\"\"\"\n",
        "LOGS : Count Vectorizer \n",
        "Fold 0\n",
        "Accuracy : 0.8935\n",
        "Count Vectorizer took 177.35169458389282 time for 0 fold\n",
        "--------------------------------------------------------\n",
        "Fold 1\n",
        "Accuracy : 0.8952\n",
        "Count Vectorizer took 175.8921570777893 time for 1 fold\n",
        "-------------------------------------------------------\n",
        "Fold 2\n",
        "Accuracy : 0.8902\n",
        "Count Vectorizer took 176.28439044952393 time for 2 fold\n",
        "-------------------------------------------------------\n",
        "Fold 3\n",
        "Accuracy : 0.8934\n",
        "Count Vectorizer took 176.6089653968811 time for 3 fold\n",
        "-------------------------------------------------------\n",
        "Fold 4\n",
        "Accuracy : 0.8879\n",
        "Count Vectorizer took 177.0667896270752 time for 4 fold\n",
        "-------------------------------------------------------\n",
        "STABLE CROSS-VAL SCORE ~~ 89%\n",
        "\"\"\""
      ],
      "execution_count": null,
      "outputs": []
    },
    {
      "cell_type": "markdown",
      "metadata": {
        "id": "GDaUAw-x5OEW"
      },
      "source": [
        "# Naive Bayes : BOW"
      ]
    },
    {
      "cell_type": "code",
      "metadata": {
        "id": "GMReUj-b5Azc"
      },
      "source": [
        "from sklearn import naive_bayes\n"
      ],
      "execution_count": 68,
      "outputs": []
    },
    {
      "cell_type": "code",
      "metadata": {
        "id": "YPTJVhIi5Yiw",
        "outputId": "cfa45d90-ec4c-4f94-93e6-a117cde76872",
        "colab": {
          "base_uri": "https://localhost:8080/",
          "height": 268
        }
      },
      "source": [
        "for epoch in range(5):\n",
        "    start=time.time()\n",
        "    train = df[df['kfold']!=epoch].reset_index(drop=True)\n",
        "    valid = df[df['kfold']==epoch].reset_index(drop=True)\n",
        "    count_vect = CountVectorizer(tokenizer=word_tokenize,token_pattern=None)\n",
        "    count_vect.fit(train.review)\n",
        "    x_train = count_vect.transform(train.review)  \n",
        "    x_test =  count_vect.transform(valid.review)\n",
        "    model = naive_bayes.MultinomialNB()\n",
        "    model.fit(x_train,train.sentiment)\n",
        "    prediction = model.predict(x_test)\n",
        "    acc = metrics.accuracy_score(valid.sentiment,prediction)\n",
        "    end=time.time()\n",
        "    print(f\"Fold {epoch}\")\n",
        "    print(f'Accuracy : {acc}')\n",
        "    print(f'Count Vectorizer took {end-start} sec time for {epoch} fold')"
      ],
      "execution_count": 70,
      "outputs": [
        {
          "output_type": "stream",
          "text": [
            "Fold 0\n",
            "Accuracy : 0.8435\n",
            "Count Vectorizer took 184.76706552505493 sec time for 0 fold\n",
            "Fold 1\n",
            "Accuracy : 0.8468\n",
            "Count Vectorizer took 186.36677408218384 sec time for 1 fold\n",
            "Fold 2\n",
            "Accuracy : 0.839\n",
            "Count Vectorizer took 178.72682237625122 sec time for 2 fold\n",
            "Fold 3\n",
            "Accuracy : 0.8462\n",
            "Count Vectorizer took 171.66409277915955 sec time for 3 fold\n",
            "Fold 4\n",
            "Accuracy : 0.8492\n",
            "Count Vectorizer took 170.3415720462799 sec time for 4 fold\n"
          ],
          "name": "stdout"
        }
      ]
    },
    {
      "cell_type": "code",
      "metadata": {
        "id": "k7R5zMT05o-z"
      },
      "source": [
        "\"\"\"\n",
        "Logg:\n",
        "Fold 0\n",
        "Accuracy : 0.8435\n",
        "Count Vectorizer took 184.76706552505493 sec time for 0 fold\n",
        "Fold 1\n",
        "Accuracy : 0.8468\n",
        "Count Vectorizer took 186.36677408218384 sec time for 1 fold\n",
        "Fold 2\n",
        "Accuracy : 0.839\n",
        "Count Vectorizer took 178.72682237625122 sec time for 2 fold\n",
        "Fold 3\n",
        "Accuracy : 0.8462\n",
        "Count Vectorizer took 171.66409277915955 sec time for 3 fold\n",
        "Fold 4\n",
        "Accuracy : 0.8492\n",
        "Count Vectorizer took 170.3415720462799 sec time for 4 fold\n",
        "\"\"\""
      ],
      "execution_count": null,
      "outputs": []
    },
    {
      "cell_type": "code",
      "metadata": {
        "id": "v76xwbju9sR0"
      },
      "source": [
        ""
      ],
      "execution_count": null,
      "outputs": []
    },
    {
      "cell_type": "markdown",
      "metadata": {
        "id": "Cmr_iQ4r905x"
      },
      "source": [
        "# TFIDF"
      ]
    },
    {
      "cell_type": "code",
      "metadata": {
        "id": "TGcI-Qlk92ab"
      },
      "source": [
        "from sklearn.feature_extraction.text import TfidfVectorizer\n"
      ],
      "execution_count": 72,
      "outputs": []
    },
    {
      "cell_type": "code",
      "metadata": {
        "id": "mN6FFF4_-Or8"
      },
      "source": [
        "tfidf_ = TfidfVectorizer(tokenizer=word_tokenize,token_pattern=None)\n",
        "corp = [\"hello, how are you?\",\n",
        "\"im getting bored at home. And you? What do you think?\",\n",
        "\"did you know about counts\",\n",
        "\"let's see if this works!\",\n",
        "]\n",
        "tfidf_.fit(corp)\n",
        "tr_tfidf = tfidf_.transform(corp)\n",
        "print(tr_tfidf)"
      ],
      "execution_count": null,
      "outputs": []
    },
    {
      "cell_type": "code",
      "metadata": {
        "id": "1pKl_Od4-_TE",
        "outputId": "720c3082-ca21-4da1-9838-f2d47e4777f7",
        "colab": {
          "base_uri": "https://localhost:8080/",
          "height": 421
        }
      },
      "source": [
        "for fold in range(5):\n",
        "    start = time.time()\n",
        "    train_df = df[df['kfold'] != fold].reset_index(drop=True)\n",
        "    valid_df = df[df['kfold'] == fold ].reset_index(drop=True)\n",
        "    tfidf = TfidfVectorizer(tokenizer=word_tokenize,token_pattern=None)\n",
        "    tfidf.fit(train_df.review)\n",
        "    x_train = tfidf.transform(train_df.review)\n",
        "    x_valid = tfidf.transform(valid_df.review)\n",
        "    model = linear_model.LogisticRegression()\n",
        "    model.fit(x_train,train_df.sentiment)\n",
        "    preds = model.predict(x_valid)\n",
        "    acc = metrics.accuracy_score(valid_df.sentiment,preds)\n",
        "    end = time.time()\n",
        "    print(f\"Fold {fold} \")\n",
        "    print(f\"accuracy {acc}\")\n",
        "    print(f'Time taken by TFIDF {end-start} sec on Logistic Regression')"
      ],
      "execution_count": 78,
      "outputs": [
        {
          "output_type": "stream",
          "text": [
            "Fold 0 \n",
            "accuracy 0.8957\n",
            "Time taken by TFIDF 176.92100644111633 sec on Logistic Regression\n",
            "Fold 1 \n",
            "accuracy 0.8981\n",
            "Time taken by TFIDF 178.90861868858337 sec on Logistic Regression\n",
            "Fold 2 \n",
            "accuracy 0.8928\n",
            "Time taken by TFIDF 176.45494413375854 sec on Logistic Regression\n",
            "Fold 3 \n",
            "accuracy 0.8978\n",
            "Time taken by TFIDF 178.21876549720764 sec on Logistic Regression\n",
            "Fold 4 \n",
            "accuracy 0.8997\n",
            "Time taken by TFIDF 177.38913106918335 sec on Logistic Regression\n"
          ],
          "name": "stdout"
        },
        {
          "output_type": "stream",
          "text": [
            "/usr/local/lib/python3.6/dist-packages/sklearn/linear_model/_logistic.py:940: ConvergenceWarning: lbfgs failed to converge (status=1):\n",
            "STOP: TOTAL NO. of ITERATIONS REACHED LIMIT.\n",
            "\n",
            "Increase the number of iterations (max_iter) or scale the data as shown in:\n",
            "    https://scikit-learn.org/stable/modules/preprocessing.html\n",
            "Please also refer to the documentation for alternative solver options:\n",
            "    https://scikit-learn.org/stable/modules/linear_model.html#logistic-regression\n",
            "  extra_warning_msg=_LOGISTIC_SOLVER_CONVERGENCE_MSG)\n"
          ],
          "name": "stderr"
        }
      ]
    },
    {
      "cell_type": "code",
      "metadata": {
        "id": "IIz2mjjSAPK0"
      },
      "source": [
        "\"\"\"\n",
        "LOGS : TFIDF\n",
        "Fold 0 \n",
        "accuracy 0.8957\n",
        "Time taken by TFIDF 176.92100644111633 sec on Logistic Regression\n",
        "Fold 1 \n",
        "accuracy 0.8981\n",
        "Time taken by TFIDF 178.90861868858337 sec on Logistic Regression\n",
        "Fold 2 \n",
        "accuracy 0.8928\n",
        "Time taken by TFIDF 176.45494413375854 sec on Logistic Regression\n",
        "Fold 3 \n",
        "accuracy 0.8978\n",
        "Time taken by TFIDF 178.21876549720764 sec on Logistic Regression\n",
        "Fold 4 \n",
        "accuracy 0.8997\n",
        "Better than BOW duh:))\n",
        "\"\"\""
      ],
      "execution_count": null,
      "outputs": []
    },
    {
      "cell_type": "markdown",
      "metadata": {
        "id": "etN4VMWwMaaz"
      },
      "source": [
        "# N-Grams"
      ]
    },
    {
      "cell_type": "code",
      "metadata": {
        "id": "Yu_ElBE5GBgT"
      },
      "source": [
        "from nltk import ngrams"
      ],
      "execution_count": 80,
      "outputs": []
    },
    {
      "cell_type": "code",
      "metadata": {
        "id": "b1CK8zXOKsfn"
      },
      "source": [
        "n = 2\n",
        "text = 'i laugh the way you smirk'\n",
        "text_tok = word_tokenize(text)\n",
        "n_grams_ = list(ngrams(text_tok,n))\n"
      ],
      "execution_count": 87,
      "outputs": []
    },
    {
      "cell_type": "code",
      "metadata": {
        "id": "A1HVaWrwLv0R",
        "outputId": "9d97d9de-c832-4783-f4d7-2a804d0c03a7",
        "colab": {
          "base_uri": "https://localhost:8080/",
          "height": 100
        }
      },
      "source": [
        "n_grams_"
      ],
      "execution_count": 88,
      "outputs": [
        {
          "output_type": "execute_result",
          "data": {
            "text/plain": [
              "[('i', 'laugh'),\n",
              " ('laugh', 'the'),\n",
              " ('the', 'way'),\n",
              " ('way', 'you'),\n",
              " ('you', 'smirk')]"
            ]
          },
          "metadata": {
            "tags": []
          },
          "execution_count": 88
        }
      ]
    },
    {
      "cell_type": "code",
      "metadata": {
        "id": "022yowh2MKul"
      },
      "source": [
        "tfidf_ngrams = TfidfVectorizer(tokenizer=word_tokenize,token_pattern=None,ngram_range=(1,2))"
      ],
      "execution_count": 91,
      "outputs": []
    },
    {
      "cell_type": "code",
      "metadata": {
        "id": "dVHINWL9MdtK",
        "outputId": "d4b8e5fd-3df5-47f7-cc9a-8cc2c0b01b6e",
        "colab": {
          "base_uri": "https://localhost:8080/",
          "height": 33
        }
      },
      "source": [
        "train = df[df['kfold']!=1].reset_index(drop=True)\n",
        "valid = df[df['kfold'] == 1].reset_index(drop=True)\n",
        "tfidf_ngrams.fit(train.review)\n",
        "x_train = tfidf_ngrams.transform(train.review)\n",
        "x_valid = tfidf_ngrams.transform(valid.review)\n",
        "model = linear_model.LogisticRegression()\n",
        "model.fit(x_train,train.sentiment)\n",
        "preds = model.predict(x_valid)\n",
        "acc=  metrics.accuracy_score(valid.sentiment,preds)\n",
        "print(f'Accuracy {acc} ')\n"
      ],
      "execution_count": 92,
      "outputs": [
        {
          "output_type": "stream",
          "text": [
            "Accuracy 0.8986 \n"
          ],
          "name": "stdout"
        }
      ]
    },
    {
      "cell_type": "markdown",
      "metadata": {
        "id": "zd8XYQZCG3LI"
      },
      "source": [
        "# STEMMING AND LEMMATIZATION"
      ]
    },
    {
      "cell_type": "code",
      "metadata": {
        "id": "8sd17dMsQdqb"
      },
      "source": [
        "from nltk.stem.snowball import SnowballStemmer\n",
        "stemmer = SnowballStemmer('english')"
      ],
      "execution_count": 96,
      "outputs": []
    },
    {
      "cell_type": "code",
      "metadata": {
        "id": "oRiy1FNdQtcS",
        "outputId": "ab968a26-d06d-4498-b76c-b3fa874ec493",
        "colab": {
          "base_uri": "https://localhost:8080/",
          "height": 33
        }
      },
      "source": [
        "train = df[df['kfold'] != 1].reset_index(drop=True)\n",
        "valid = df[df['kfold'] == 1].reset_index(drop=True)\n",
        "train['review'] = train['review'].apply(lambda x:stemmer.stem(x))\n",
        "tfidf.fit(train.review)\n",
        "x_train = tfidf.transform(train.review)\n",
        "x_valid = tfidf.transform(valid.review)\n",
        "model = linear_model.LogisticRegression()\n",
        "model.fit(x_train,train.sentiment)\n",
        "preds = model.predict(x_valid)\n",
        "acc=  metrics.accuracy_score(valid.sentiment,preds)\n",
        "print(f'Accuracy {acc} ')\n"
      ],
      "execution_count": 97,
      "outputs": [
        {
          "output_type": "stream",
          "text": [
            "Accuracy 0.8979 \n"
          ],
          "name": "stdout"
        }
      ]
    },
    {
      "cell_type": "code",
      "metadata": {
        "id": "x60oe5lGRWJE"
      },
      "source": [
        "# SO seems stemming doesn't improve our our bi-gram model"
      ],
      "execution_count": 99,
      "outputs": []
    },
    {
      "cell_type": "code",
      "metadata": {
        "id": "FE3UGir2Sl5A",
        "outputId": "0f306d59-8eb9-4374-e3a0-d960b485ab4b",
        "colab": {
          "base_uri": "https://localhost:8080/",
          "height": 33
        }
      },
      "source": [
        "# Stemming PLus bi-gram\n",
        "train = df[df['kfold'] != 1].reset_index(drop=True)\n",
        "valid = df[df['kfold'] == 1].reset_index(drop=True)\n",
        "train['review'] = train['review'].apply(lambda x:stemmer.stem(x))\n",
        "tfidf_ngrams.fit(train.review)\n",
        "x_train = tfidf_ngrams.transform(train.review)\n",
        "x_valid = tfidf_ngrams.transform(valid.review)\n",
        "model = linear_model.LogisticRegression()\n",
        "model.fit(x_train,train.sentiment)\n",
        "preds = model.predict(x_valid)\n",
        "acc=  metrics.accuracy_score(valid.sentiment,preds)\n",
        "print(f'Accuracy {acc} ')\n"
      ],
      "execution_count": 100,
      "outputs": [
        {
          "output_type": "stream",
          "text": [
            "Accuracy 0.8984 \n"
          ],
          "name": "stdout"
        }
      ]
    },
    {
      "cell_type": "markdown",
      "metadata": {
        "id": "dscliJSKT-Ht"
      },
      "source": [
        "Still Not able to cross 90% mark"
      ]
    },
    {
      "cell_type": "markdown",
      "metadata": {
        "id": "am2R4QcBUOQi"
      },
      "source": [
        "# EMBEDDINGS \n"
      ]
    },
    {
      "cell_type": "code",
      "metadata": {
        "id": "vn3nUN97UR_K"
      },
      "source": [
        ""
      ],
      "execution_count": null,
      "outputs": []
    }
  ]
}